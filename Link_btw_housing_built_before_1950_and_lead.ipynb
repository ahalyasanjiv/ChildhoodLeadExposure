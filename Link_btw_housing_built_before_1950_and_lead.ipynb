{
  "nbformat": 4,
  "nbformat_minor": 0,
  "metadata": {
    "colab": {
      "name": "Link btw housing built before 1950 and lead",
      "version": "0.3.2",
      "provenance": [],
      "collapsed_sections": []
    },
    "kernelspec": {
      "name": "python3",
      "display_name": "Python 3"
    }
  },
  "cells": [
    {
      "cell_type": "markdown",
      "metadata": {
        "id": "hQ_RLwADUJnB",
        "colab_type": "text"
      },
      "source": [
        "### Question: What's link between the percentage of housing built before 1950 and lead exposure? "
      ]
    },
    {
      "cell_type": "code",
      "metadata": {
        "id": "qnGWaszsUTod",
        "colab_type": "code",
        "colab": {}
      },
      "source": [
        "import pandas as pd\n",
        "import numpy as np\n",
        "import io\n",
        "import matplotlib.pyplot as plt"
      ],
      "execution_count": 0,
      "outputs": []
    },
    {
      "cell_type": "code",
      "metadata": {
        "id": "xb51V0BBeByQ",
        "colab_type": "code",
        "colab": {}
      },
      "source": [
        "lead = 'https://raw.githubusercontent.com/ahalyasanjiv/ChildhoodLeadExposure/master/data/Childhood_Blood_Lead_Testing_by_Zip_Code.csv'\n",
        "df = pd.read_csv(lead)\n",
        "housing = 'https://raw.githubusercontent.com/ahalyasanjiv/ChildhoodLeadExposure/master/data/Housing_Units_Built_Pecentage_by_Year.csv'\n",
        "df2 = pd.read_csv(housing)"
      ],
      "execution_count": 0,
      "outputs": []
    },
    {
      "cell_type": "code",
      "metadata": {
        "id": "_XmucwiJeihN",
        "colab_type": "code",
        "colab": {
          "base_uri": "https://localhost:8080/",
          "height": 136
        },
        "outputId": "06766cdb-dcb8-4e29-bc59-8120aee713b6"
      },
      "source": [
        "intersected_df = pd.merge(df, df2, how='inner')\n",
        "intersected_df.columns"
      ],
      "execution_count": 57,
      "outputs": [
        {
          "output_type": "execute_result",
          "data": {
            "text/plain": [
              "Index(['County', 'County Code', 'Year', 'Zip', 'Tests', 'Less than 5 mcg/dL',\n",
              "       '5-10 mcg/dL', '10 – 15 mcg/dL', '15 + mcg/dL',\n",
              "       'Total Elevated Blood Levels ', 'Percent', 'Rate per 1,000',\n",
              "       'Zip Code Location', 'County Location', 'Total Housing Units',\n",
              "       '% of housing units built 1950 - 1959', '% built 1940 - 1949',\n",
              "       '% built 1939 or earlier', '% of housing units built before 1950'],\n",
              "      dtype='object')"
            ]
          },
          "metadata": {
            "tags": []
          },
          "execution_count": 57
        }
      ]
    },
    {
      "cell_type": "code",
      "metadata": {
        "id": "Um44GuQhrn9d",
        "colab_type": "code",
        "colab": {
          "base_uri": "https://localhost:8080/",
          "height": 283
        },
        "outputId": "7759d98c-378e-4563-dda4-29e195aaba3a"
      },
      "source": [
        "# Make a scatter plot\n",
        "_= plt.plot(intersected_df['Percent'], intersected_df['% of housing units built before 1950'], marker='.', linestyle='none')\n",
        "\n",
        "# Label the axes\n",
        "_ = plt.ylabel('% of housing units built before 1950')\n",
        "_ = plt.xlabel('% of Lead in Children')\n",
        "_ = plt.yticks(np.arange(0,105, step=10))\n",
        "_ = plt.xticks(np.arange(0,105, step=10))\n",
        "\n",
        "# Show the result\n",
        "plt.show()"
      ],
      "execution_count": 58,
      "outputs": [
        {
          "output_type": "display_data",
          "data": {
            "image/png": "[encoded data removed]",
            "text/plain": [
              "<Figure size 432x288 with 1 Axes>"
            ]
          },
          "metadata": {
            "tags": []
          }
        }
      ]
    },
    {
      "cell_type": "code",
      "metadata": {
        "id": "KlR6qBpHXvXB",
        "colab_type": "code",
        "colab": {
          "base_uri": "https://localhost:8080/",
          "height": 34
        },
        "outputId": "7def9ef2-8942-49da-c8f2-524913e5df14"
      },
      "source": [
        "intersected_df['% of housing units built before 1950'].corr(intersected_df['Percent'])"
      ],
      "execution_count": 67,
      "outputs": [
        {
          "output_type": "execute_result",
          "data": {
            "text/plain": [
              "0.124968078337964"
            ]
          },
          "metadata": {
            "tags": []
          },
          "execution_count": 67
        }
      ]
    },
    {
      "cell_type": "markdown",
      "metadata": {
        "id": "v_21suDx_5ci",
        "colab_type": "text"
      },
      "source": [
        "### Answer:  Nope! "
      ]
    }
  ]
}