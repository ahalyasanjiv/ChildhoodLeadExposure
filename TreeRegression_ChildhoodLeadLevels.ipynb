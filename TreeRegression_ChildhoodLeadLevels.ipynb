{
  "nbformat": 4,
  "nbformat_minor": 0,
  "metadata": {
    "colab": {
      "name": "TreeRegression--ChildhoodLeadLevels.ipynb",
      "version": "0.3.2",
      "provenance": [],
      "include_colab_link": true
    },
    "kernelspec": {
      "name": "python3",
      "display_name": "Python 3"
    }
  },
  "cells": [
    {
      "cell_type": "markdown",
      "metadata": {
        "id": "view-in-github",
        "colab_type": "text"
      },
      "source": [
        "<a href=\"https://colab.research.google.com/github/ahalyasanjiv/ChildhoodLeadExposure/blob/regression-tree/TreeRegression_ChildhoodLeadLevels.ipynb\" target=\"_parent\"><img src=\"https://colab.research.google.com/assets/colab-badge.svg\" alt=\"Open In Colab\"/></a>"
      ]
    },
    {
      "cell_type": "code",
      "metadata": {
        "id": "kD3VBO6dfHcO",
        "colab_type": "code",
        "colab": {
          "base_uri": "https://localhost:8080/",
          "height": 323
        },
        "outputId": "eb49c5d1-06e3-48a6-dcea-0cefbdac7660"
      },
      "source": [
        "import pandas as pd\n",
        "from sklearn.tree import DecisionTreeClassifier\n",
        "from sklearn.model_selection import train_test_split\n",
        "from sklearn.metrics import accuracy_score\n",
        "\n",
        "df = pd.read_csv('https://raw.githubusercontent.com/ahalyasanjiv/ChildhoodLeadExposure/master/data/US_Lead_Testing.csv')\n",
        "df.head()\n"
      ],
      "execution_count": 2,
      "outputs": [
        {
          "output_type": "execute_result",
          "data": {
            "text/html": [
              "<div>\n",
              "<style scoped>\n",
              "    .dataframe tbody tr th:only-of-type {\n",
              "        vertical-align: middle;\n",
              "    }\n",
              "\n",
              "    .dataframe tbody tr th {\n",
              "        vertical-align: top;\n",
              "    }\n",
              "\n",
              "    .dataframe thead th {\n",
              "        text-align: right;\n",
              "    }\n",
              "</style>\n",
              "<table border=\"1\" class=\"dataframe\">\n",
              "  <thead>\n",
              "    <tr style=\"text-align: right;\">\n",
              "      <th></th>\n",
              "      <th>State</th>\n",
              "      <th>County</th>\n",
              "      <th>Population</th>\n",
              "      <th>Number of children tested</th>\n",
              "      <th>Percentage of children with levels higher than 5 ug/dl</th>\n",
              "      <th>Percentage of children with levels higher than 10 ug/dl</th>\n",
              "      <th>Percentage of population under the poverty line</th>\n",
              "    </tr>\n",
              "  </thead>\n",
              "  <tbody>\n",
              "    <tr>\n",
              "      <th>0</th>\n",
              "      <td>AL</td>\n",
              "      <td>Autauga County</td>\n",
              "      <td>55136</td>\n",
              "      <td>29</td>\n",
              "      <td>Unknown</td>\n",
              "      <td>0</td>\n",
              "      <td>12.8</td>\n",
              "    </tr>\n",
              "    <tr>\n",
              "      <th>1</th>\n",
              "      <td>AL</td>\n",
              "      <td>Baldwin County</td>\n",
              "      <td>191205</td>\n",
              "      <td>357</td>\n",
              "      <td>1.7%</td>\n",
              "      <td>0.6</td>\n",
              "      <td>13.8</td>\n",
              "    </tr>\n",
              "    <tr>\n",
              "      <th>2</th>\n",
              "      <td>AL</td>\n",
              "      <td>Barbour County</td>\n",
              "      <td>27119</td>\n",
              "      <td>23</td>\n",
              "      <td>Unknown</td>\n",
              "      <td>4.3</td>\n",
              "      <td>24.1</td>\n",
              "    </tr>\n",
              "    <tr>\n",
              "      <th>3</th>\n",
              "      <td>AL</td>\n",
              "      <td>Bibb County</td>\n",
              "      <td>22653</td>\n",
              "      <td>41</td>\n",
              "      <td>Unknown</td>\n",
              "      <td>0</td>\n",
              "      <td>17.0</td>\n",
              "    </tr>\n",
              "    <tr>\n",
              "      <th>4</th>\n",
              "      <td>AL</td>\n",
              "      <td>Blount County</td>\n",
              "      <td>57645</td>\n",
              "      <td>250</td>\n",
              "      <td>1.2%</td>\n",
              "      <td>0</td>\n",
              "      <td>17.3</td>\n",
              "    </tr>\n",
              "  </tbody>\n",
              "</table>\n",
              "</div>"
            ],
            "text/plain": [
              "  State          County  Population Number of children tested  \\\n",
              "0    AL  Autauga County       55136                        29   \n",
              "1    AL  Baldwin County      191205                       357   \n",
              "2    AL  Barbour County       27119                        23   \n",
              "3    AL     Bibb County       22653                        41   \n",
              "4    AL   Blount County       57645                       250   \n",
              "\n",
              "  Percentage of children with levels higher than 5 ug/dl  \\\n",
              "0                                            Unknown       \n",
              "1                                               1.7%       \n",
              "2                                            Unknown       \n",
              "3                                            Unknown       \n",
              "4                                               1.2%       \n",
              "\n",
              "  Percentage of children with levels higher than 10 ug/dl  \\\n",
              "0                                                  0        \n",
              "1                                                0.6        \n",
              "2                                                4.3        \n",
              "3                                                  0        \n",
              "4                                                  0        \n",
              "\n",
              "   Percentage of population under the poverty line  \n",
              "0                                             12.8  \n",
              "1                                             13.8  \n",
              "2                                             24.1  \n",
              "3                                             17.0  \n",
              "4                                             17.3  "
            ]
          },
          "metadata": {
            "tags": []
          },
          "execution_count": 2
        }
      ]
    },
    {
      "cell_type": "code",
      "metadata": {
        "id": "tkmDs15QhvbI",
        "colab_type": "code",
        "colab": {}
      },
      "source": [
        "#Split dataset into 80% train, 20% test\n",
        "train, test = train_test_split(df, test_size=0.2)\n"
      ],
      "execution_count": 0,
      "outputs": []
    }
  ]
}