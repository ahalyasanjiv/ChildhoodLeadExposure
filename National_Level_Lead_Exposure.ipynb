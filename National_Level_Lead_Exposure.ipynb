{
  "nbformat": 4,
  "nbformat_minor": 0,
  "metadata": {
    "colab": {
      "name": "National_Level_Lead_Exposure.ipynb",
      "version": "0.3.2",
      "provenance": [],
      "collapsed_sections": [],
      "include_colab_link": true
    },
    "kernelspec": {
      "name": "python3",
      "display_name": "Python 3"
    }
  },
  "cells": [
    {
      "cell_type": "markdown",
      "metadata": {
        "id": "view-in-github",
        "colab_type": "text"
      },
      "source": [
        "<a href=\"https://colab.research.google.com/github/ahalyasanjiv/ChildhoodLeadExposure/blob/master/National_Level_Lead_Exposure.ipynb\" target=\"_parent\"><img src=\"https://colab.research.google.com/assets/colab-badge.svg\" alt=\"Open In Colab\"/></a>"
      ]
    },
    {
      "cell_type": "markdown",
      "metadata": {
        "id": "E-WsX8tV9pn0",
        "colab_type": "text"
      },
      "source": [
        "# Exploring Link between Lead Exposure and Poverty Level and Demographic Data by County"
      ]
    },
    {
      "cell_type": "markdown",
      "metadata": {
        "id": "l2aSEyowG2JR",
        "colab_type": "text"
      },
      "source": [
        "The data we will be using here is provided by [CDC](https://www.cdc.gov/nceh/lead/data/national.htm) (Centers for Disease Control and Prevention). The CDC has been collecting blood lead level surveillance data sice 1995, and the particular dataset we will be using is county level data across 26 states and includes the percentage of the population of the county that is living under the poverty line.\n",
        "\n",
        "In this notebook, we will be investigating the link between lead exposure and the poverty level of each county. To accomplish this, we will use pandas and matplotlib. "
      ]
    },
    {
      "cell_type": "code",
      "metadata": {
        "id": "AIj1wBcm-w0L",
        "colab_type": "code",
        "colab": {}
      },
      "source": [
        "# Import necessary modules\n",
        "%matplotlib inline\n",
        "import pandas as pd\n",
        "import matplotlib.pyplot as plt"
      ],
      "execution_count": 0,
      "outputs": []
    },
    {
      "cell_type": "markdown",
      "metadata": {
        "id": "_HhNV2ZcHimN",
        "colab_type": "text"
      },
      "source": [
        "First, let;s load the dataframe and check how it looks so we can decide what we may need to clean.\n"
      ]
    },
    {
      "cell_type": "code",
      "metadata": {
        "id": "rPvECvF---bv",
        "colab_type": "code",
        "outputId": "ba4ddc6e-9e03-4892-acc1-29fb18c5245d",
        "colab": {
          "base_uri": "https://localhost:8080/",
          "height": 272
        }
      },
      "source": [
        "df = pd.read_csv('https://raw.githubusercontent.com/ahalyasanjiv/ChildhoodLeadExposure/master/data/US_Lead_Testing.csv')\n",
        "\n",
        "df.head()"
      ],
      "execution_count": 2,
      "outputs": [
        {
          "output_type": "execute_result",
          "data": {
            "text/html": [
              "<div>\n",
              "<style scoped>\n",
              "    .dataframe tbody tr th:only-of-type {\n",
              "        vertical-align: middle;\n",
              "    }\n",
              "\n",
              "    .dataframe tbody tr th {\n",
              "        vertical-align: top;\n",
              "    }\n",
              "\n",
              "    .dataframe thead th {\n",
              "        text-align: right;\n",
              "    }\n",
              "</style>\n",
              "<table border=\"1\" class=\"dataframe\">\n",
              "  <thead>\n",
              "    <tr style=\"text-align: right;\">\n",
              "      <th></th>\n",
              "      <th>State</th>\n",
              "      <th>County</th>\n",
              "      <th>Population</th>\n",
              "      <th>Number of children tested</th>\n",
              "      <th>Percentage of children with levels higher than 5 ug/dl</th>\n",
              "      <th>Percentage of children with levels higher than 10 ug/dl</th>\n",
              "      <th>Percentage of population under the poverty line</th>\n",
              "    </tr>\n",
              "  </thead>\n",
              "  <tbody>\n",
              "    <tr>\n",
              "      <th>0</th>\n",
              "      <td>AL</td>\n",
              "      <td>Autauga County</td>\n",
              "      <td>55136</td>\n",
              "      <td>29</td>\n",
              "      <td>Unknown</td>\n",
              "      <td>0</td>\n",
              "      <td>12.8</td>\n",
              "    </tr>\n",
              "    <tr>\n",
              "      <th>1</th>\n",
              "      <td>AL</td>\n",
              "      <td>Baldwin County</td>\n",
              "      <td>191205</td>\n",
              "      <td>357</td>\n",
              "      <td>1.7%</td>\n",
              "      <td>0.6</td>\n",
              "      <td>13.8</td>\n",
              "    </tr>\n",
              "    <tr>\n",
              "      <th>2</th>\n",
              "      <td>AL</td>\n",
              "      <td>Barbour County</td>\n",
              "      <td>27119</td>\n",
              "      <td>23</td>\n",
              "      <td>Unknown</td>\n",
              "      <td>4.3</td>\n",
              "      <td>24.1</td>\n",
              "    </tr>\n",
              "    <tr>\n",
              "      <th>3</th>\n",
              "      <td>AL</td>\n",
              "      <td>Bibb County</td>\n",
              "      <td>22653</td>\n",
              "      <td>41</td>\n",
              "      <td>Unknown</td>\n",
              "      <td>0</td>\n",
              "      <td>17.0</td>\n",
              "    </tr>\n",
              "    <tr>\n",
              "      <th>4</th>\n",
              "      <td>AL</td>\n",
              "      <td>Blount County</td>\n",
              "      <td>57645</td>\n",
              "      <td>250</td>\n",
              "      <td>1.2%</td>\n",
              "      <td>0</td>\n",
              "      <td>17.3</td>\n",
              "    </tr>\n",
              "  </tbody>\n",
              "</table>\n",
              "</div>"
            ],
            "text/plain": [
              "  State  ... Percentage of population under the poverty line\n",
              "0    AL  ...                                            12.8\n",
              "1    AL  ...                                            13.8\n",
              "2    AL  ...                                            24.1\n",
              "3    AL  ...                                            17.0\n",
              "4    AL  ...                                            17.3\n",
              "\n",
              "[5 rows x 7 columns]"
            ]
          },
          "metadata": {
            "tags": []
          },
          "execution_count": 2
        }
      ]
    },
    {
      "cell_type": "code",
      "metadata": {
        "id": "kmU2FXRYOL0R",
        "colab_type": "code",
        "outputId": "58bfd975-8785-4839-edfd-f2a92802ba3b",
        "colab": {
          "base_uri": "https://localhost:8080/",
          "height": 212
        }
      },
      "source": [
        "df.info()"
      ],
      "execution_count": 3,
      "outputs": [
        {
          "output_type": "stream",
          "text": [
            "<class 'pandas.core.frame.DataFrame'>\n",
            "RangeIndex: 1561 entries, 0 to 1560\n",
            "Data columns (total 7 columns):\n",
            "State                                                      1561 non-null object\n",
            "County                                                     1561 non-null object\n",
            "Population                                                 1561 non-null int64\n",
            "Number of children tested                                  1561 non-null object\n",
            "Percentage of children with levels higher than 5 ug/dl     1561 non-null object\n",
            "Percentage of children with levels higher than 10 ug/dl    1561 non-null object\n",
            "Percentage of population under the poverty line            1561 non-null float64\n",
            "dtypes: float64(1), int64(1), object(5)\n",
            "memory usage: 85.4+ KB\n"
          ],
          "name": "stdout"
        }
      ]
    },
    {
      "cell_type": "markdown",
      "metadata": {
        "id": "YJJa-GMyOOQp",
        "colab_type": "text"
      },
      "source": [
        "We notice that there are some unknowns in the dataset and also the datatypes are defined as objects for a few columns, when we would actually like them to be ints/floats. First, let's take care of dropping the rows with missing data. The reason for dropping rather than filling in with an educated guess is that a county can cover a large amount of people and nearby counties can differ in data greatly. If we do not have data for a particular county, we prefer to leave it out rather than trying to incorrectly assume."
      ]
    },
    {
      "cell_type": "code",
      "metadata": {
        "id": "cte5u9DbOGvk",
        "colab_type": "code",
        "outputId": "c95cabab-2ebd-4fa6-d34b-28c31dae0f56",
        "colab": {
          "base_uri": "https://localhost:8080/",
          "height": 212
        }
      },
      "source": [
        "# Drop rows with missing data\n",
        "notAllowed = ['Unknown', 'Number of children tested']\n",
        "df = df[~df['Percentage of children with levels higher than 5 ug/dl'].isin(notAllowed)]\n",
        "df = df[~df['Percentage of children with levels higher than 10 ug/dl'].isin(notAllowed)]\n",
        "df.info()"
      ],
      "execution_count": 4,
      "outputs": [
        {
          "output_type": "stream",
          "text": [
            "<class 'pandas.core.frame.DataFrame'>\n",
            "Int64Index: 1370 entries, 1 to 1560\n",
            "Data columns (total 7 columns):\n",
            "State                                                      1370 non-null object\n",
            "County                                                     1370 non-null object\n",
            "Population                                                 1370 non-null int64\n",
            "Number of children tested                                  1370 non-null object\n",
            "Percentage of children with levels higher than 5 ug/dl     1370 non-null object\n",
            "Percentage of children with levels higher than 10 ug/dl    1370 non-null object\n",
            "Percentage of population under the poverty line            1370 non-null float64\n",
            "dtypes: float64(1), int64(1), object(5)\n",
            "memory usage: 85.6+ KB\n"
          ],
          "name": "stdout"
        }
      ]
    },
    {
      "cell_type": "markdown",
      "metadata": {
        "id": "nbjwJONEOmkb",
        "colab_type": "text"
      },
      "source": [
        "From what we see above by running df.info() again, about 12% of the original rows were dropped, but we still have a sizable amount of data to make predictions off of.\n",
        "\n",
        "Now we will convert some of the columns from an object type to a float type."
      ]
    },
    {
      "cell_type": "code",
      "metadata": {
        "id": "NwzfLu55Br9Q",
        "colab_type": "code",
        "colab": {}
      },
      "source": [
        "float_cols = ['Percentage of children with levels higher than 5 ug/dl','Percentage of children with levels higher than 10 ug/dl']\n",
        "# Clean the rows for the percentage sign and then convert to float type\n",
        "\n",
        "for col in float_cols: \n",
        "  df[col] = df[col].str.replace('Less than 5', '0.0')\n",
        "  df[col] = df[col].str.rstrip('%')\n",
        "  df = df.astype({col: float})"
      ],
      "execution_count": 0,
      "outputs": []
    },
    {
      "cell_type": "code",
      "metadata": {
        "id": "rUweK6zcWkC3",
        "colab_type": "code",
        "colab": {}
      },
      "source": [
        "df['Number of children tested'] = df['Number of children tested'].str.replace('Less than 5', '0')\n",
        "df = df.astype({'Number of children tested':int})"
      ],
      "execution_count": 0,
      "outputs": []
    },
    {
      "cell_type": "markdown",
      "metadata": {
        "id": "jj-hFdQ-QIQ9",
        "colab_type": "text"
      },
      "source": [
        "Now that the data is in the format we woul like it to be, we are ready to create a scatterplot to see the correlation between the percentage of children with lead levels greater than 5 ug/dl and the % of the population living under the poverty line. We expect there to be a positive correlation."
      ]
    },
    {
      "cell_type": "markdown",
      "metadata": {
        "id": "5b9-7iFhQb8y",
        "colab_type": "text"
      },
      "source": [
        "The correlation as shown above is generally positive, but only slightly so. To get a better idea, we can get the correlation coefficient between these two colums."
      ]
    },
    {
      "cell_type": "code",
      "metadata": {
        "id": "dnKCRXCfPib9",
        "colab_type": "code",
        "outputId": "74be0293-5805-408e-b09f-3759edac66fa",
        "colab": {
          "base_uri": "https://localhost:8080/",
          "height": 33
        }
      },
      "source": [
        "# Check the correlation between these two columns\n",
        "df['Percentage of children with levels higher than 5 ug/dl'].corr(df['Percentage of population under the poverty line'])"
      ],
      "execution_count": 7,
      "outputs": [
        {
          "output_type": "execute_result",
          "data": {
            "text/plain": [
              "0.09065190229006952"
            ]
          },
          "metadata": {
            "tags": []
          },
          "execution_count": 7
        }
      ]
    },
    {
      "cell_type": "code",
      "metadata": {
        "id": "JHIH5yTnAU4o",
        "colab_type": "code",
        "outputId": "60ec6e58-a4e7-4c86-da43-8e553eccb7c2",
        "colab": {
          "base_uri": "https://localhost:8080/",
          "height": 321
        }
      },
      "source": [
        "# Create a scatterplot between % children with lead levels > 5 ug/dl and % population living under poverty line\n",
        "plt.scatter(df['Percentage of population under the poverty line'],df['Percentage of children with levels higher than 5 ug/dl'])\n",
        "plt.ylabel('Percentage of children with levels higher than 5 ug/dl')\n",
        "plt.xlabel('Percentage of population under the poverty line')\n",
        "\n",
        "print(len(df[(df['Percentage of children with levels higher than 5 ug/dl'] > 10)]))"
      ],
      "execution_count": 8,
      "outputs": [
        {
          "output_type": "stream",
          "text": [
            "141\n"
          ],
          "name": "stdout"
        },
        {
          "output_type": "display_data",
          "data": {
            "image/png": "[encoded data removed]",
            "text/plain": [
              "<Figure size 432x288 with 1 Axes>"
            ]
          },
          "metadata": {
            "tags": []
          }
        }
      ]
    },
    {
      "cell_type": "code",
      "metadata": {
        "id": "6W_xNPWGP2CS",
        "colab_type": "code",
        "outputId": "69109e03-b51e-4743-e6a1-5de2f75ac968",
        "colab": {
          "base_uri": "https://localhost:8080/",
          "height": 292
        }
      },
      "source": [
        "# Drop column we won't use \n",
        "df = df.drop(['Population'], axis=1)\n",
        "\n",
        "lead_df = df\n",
        "\n",
        "# Load census data into df\n",
        "df = pd.read_csv('https://raw.githubusercontent.com/ahalyasanjiv/ChildhoodLeadExposure/master/data/acs2017_county_data.csv')\n",
        "\n",
        "# Check if the format of the different columns\n",
        "df.head()"
      ],
      "execution_count": 9,
      "outputs": [
        {
          "output_type": "execute_result",
          "data": {
            "text/html": [
              "<div>\n",
              "<style scoped>\n",
              "    .dataframe tbody tr th:only-of-type {\n",
              "        vertical-align: middle;\n",
              "    }\n",
              "\n",
              "    .dataframe tbody tr th {\n",
              "        vertical-align: top;\n",
              "    }\n",
              "\n",
              "    .dataframe thead th {\n",
              "        text-align: right;\n",
              "    }\n",
              "</style>\n",
              "<table border=\"1\" class=\"dataframe\">\n",
              "  <thead>\n",
              "    <tr style=\"text-align: right;\">\n",
              "      <th></th>\n",
              "      <th>CountyId</th>\n",
              "      <th>State</th>\n",
              "      <th>County</th>\n",
              "      <th>TotalPop</th>\n",
              "      <th>Men</th>\n",
              "      <th>Women</th>\n",
              "      <th>Hispanic</th>\n",
              "      <th>White</th>\n",
              "      <th>Black</th>\n",
              "      <th>Native</th>\n",
              "      <th>Asian</th>\n",
              "      <th>Pacific</th>\n",
              "      <th>VotingAgeCitizen</th>\n",
              "      <th>Income</th>\n",
              "      <th>IncomeErr</th>\n",
              "      <th>IncomePerCap</th>\n",
              "      <th>IncomePerCapErr</th>\n",
              "      <th>Poverty</th>\n",
              "      <th>ChildPoverty</th>\n",
              "      <th>Professional</th>\n",
              "      <th>Service</th>\n",
              "      <th>Office</th>\n",
              "      <th>Construction</th>\n",
              "      <th>Production</th>\n",
              "      <th>Drive</th>\n",
              "      <th>Carpool</th>\n",
              "      <th>Transit</th>\n",
              "      <th>Walk</th>\n",
              "      <th>OtherTransp</th>\n",
              "      <th>WorkAtHome</th>\n",
              "      <th>MeanCommute</th>\n",
              "      <th>Employed</th>\n",
              "      <th>PrivateWork</th>\n",
              "      <th>PublicWork</th>\n",
              "      <th>SelfEmployed</th>\n",
              "      <th>FamilyWork</th>\n",
              "      <th>Unemployment</th>\n",
              "    </tr>\n",
              "  </thead>\n",
              "  <tbody>\n",
              "    <tr>\n",
              "      <th>0</th>\n",
              "      <td>1001</td>\n",
              "      <td>Alabama</td>\n",
              "      <td>Autauga County</td>\n",
              "      <td>55036</td>\n",
              "      <td>26899</td>\n",
              "      <td>28137</td>\n",
              "      <td>2.7</td>\n",
              "      <td>75.4</td>\n",
              "      <td>18.9</td>\n",
              "      <td>0.3</td>\n",
              "      <td>0.9</td>\n",
              "      <td>0.0</td>\n",
              "      <td>41016</td>\n",
              "      <td>55317</td>\n",
              "      <td>2838</td>\n",
              "      <td>27824</td>\n",
              "      <td>2024</td>\n",
              "      <td>13.7</td>\n",
              "      <td>20.1</td>\n",
              "      <td>35.3</td>\n",
              "      <td>18.0</td>\n",
              "      <td>23.2</td>\n",
              "      <td>8.1</td>\n",
              "      <td>15.4</td>\n",
              "      <td>86.0</td>\n",
              "      <td>9.6</td>\n",
              "      <td>0.1</td>\n",
              "      <td>0.6</td>\n",
              "      <td>1.3</td>\n",
              "      <td>2.5</td>\n",
              "      <td>25.8</td>\n",
              "      <td>24112</td>\n",
              "      <td>74.1</td>\n",
              "      <td>20.2</td>\n",
              "      <td>5.6</td>\n",
              "      <td>0.1</td>\n",
              "      <td>5.2</td>\n",
              "    </tr>\n",
              "    <tr>\n",
              "      <th>1</th>\n",
              "      <td>1003</td>\n",
              "      <td>Alabama</td>\n",
              "      <td>Baldwin County</td>\n",
              "      <td>203360</td>\n",
              "      <td>99527</td>\n",
              "      <td>103833</td>\n",
              "      <td>4.4</td>\n",
              "      <td>83.1</td>\n",
              "      <td>9.5</td>\n",
              "      <td>0.8</td>\n",
              "      <td>0.7</td>\n",
              "      <td>0.0</td>\n",
              "      <td>155376</td>\n",
              "      <td>52562</td>\n",
              "      <td>1348</td>\n",
              "      <td>29364</td>\n",
              "      <td>735</td>\n",
              "      <td>11.8</td>\n",
              "      <td>16.1</td>\n",
              "      <td>35.7</td>\n",
              "      <td>18.2</td>\n",
              "      <td>25.6</td>\n",
              "      <td>9.7</td>\n",
              "      <td>10.8</td>\n",
              "      <td>84.7</td>\n",
              "      <td>7.6</td>\n",
              "      <td>0.1</td>\n",
              "      <td>0.8</td>\n",
              "      <td>1.1</td>\n",
              "      <td>5.6</td>\n",
              "      <td>27.0</td>\n",
              "      <td>89527</td>\n",
              "      <td>80.7</td>\n",
              "      <td>12.9</td>\n",
              "      <td>6.3</td>\n",
              "      <td>0.1</td>\n",
              "      <td>5.5</td>\n",
              "    </tr>\n",
              "    <tr>\n",
              "      <th>2</th>\n",
              "      <td>1005</td>\n",
              "      <td>Alabama</td>\n",
              "      <td>Barbour County</td>\n",
              "      <td>26201</td>\n",
              "      <td>13976</td>\n",
              "      <td>12225</td>\n",
              "      <td>4.2</td>\n",
              "      <td>45.7</td>\n",
              "      <td>47.8</td>\n",
              "      <td>0.2</td>\n",
              "      <td>0.6</td>\n",
              "      <td>0.0</td>\n",
              "      <td>20269</td>\n",
              "      <td>33368</td>\n",
              "      <td>2551</td>\n",
              "      <td>17561</td>\n",
              "      <td>798</td>\n",
              "      <td>27.2</td>\n",
              "      <td>44.9</td>\n",
              "      <td>25.0</td>\n",
              "      <td>16.8</td>\n",
              "      <td>22.6</td>\n",
              "      <td>11.5</td>\n",
              "      <td>24.1</td>\n",
              "      <td>83.4</td>\n",
              "      <td>11.1</td>\n",
              "      <td>0.3</td>\n",
              "      <td>2.2</td>\n",
              "      <td>1.7</td>\n",
              "      <td>1.3</td>\n",
              "      <td>23.4</td>\n",
              "      <td>8878</td>\n",
              "      <td>74.1</td>\n",
              "      <td>19.1</td>\n",
              "      <td>6.5</td>\n",
              "      <td>0.3</td>\n",
              "      <td>12.4</td>\n",
              "    </tr>\n",
              "    <tr>\n",
              "      <th>3</th>\n",
              "      <td>1007</td>\n",
              "      <td>Alabama</td>\n",
              "      <td>Bibb County</td>\n",
              "      <td>22580</td>\n",
              "      <td>12251</td>\n",
              "      <td>10329</td>\n",
              "      <td>2.4</td>\n",
              "      <td>74.6</td>\n",
              "      <td>22.0</td>\n",
              "      <td>0.4</td>\n",
              "      <td>0.0</td>\n",
              "      <td>0.0</td>\n",
              "      <td>17662</td>\n",
              "      <td>43404</td>\n",
              "      <td>3431</td>\n",
              "      <td>20911</td>\n",
              "      <td>1889</td>\n",
              "      <td>15.2</td>\n",
              "      <td>26.6</td>\n",
              "      <td>24.4</td>\n",
              "      <td>17.6</td>\n",
              "      <td>19.7</td>\n",
              "      <td>15.9</td>\n",
              "      <td>22.4</td>\n",
              "      <td>86.4</td>\n",
              "      <td>9.5</td>\n",
              "      <td>0.7</td>\n",
              "      <td>0.3</td>\n",
              "      <td>1.7</td>\n",
              "      <td>1.5</td>\n",
              "      <td>30.0</td>\n",
              "      <td>8171</td>\n",
              "      <td>76.0</td>\n",
              "      <td>17.4</td>\n",
              "      <td>6.3</td>\n",
              "      <td>0.3</td>\n",
              "      <td>8.2</td>\n",
              "    </tr>\n",
              "    <tr>\n",
              "      <th>4</th>\n",
              "      <td>1009</td>\n",
              "      <td>Alabama</td>\n",
              "      <td>Blount County</td>\n",
              "      <td>57667</td>\n",
              "      <td>28490</td>\n",
              "      <td>29177</td>\n",
              "      <td>9.0</td>\n",
              "      <td>87.4</td>\n",
              "      <td>1.5</td>\n",
              "      <td>0.3</td>\n",
              "      <td>0.1</td>\n",
              "      <td>0.0</td>\n",
              "      <td>42513</td>\n",
              "      <td>47412</td>\n",
              "      <td>2630</td>\n",
              "      <td>22021</td>\n",
              "      <td>850</td>\n",
              "      <td>15.6</td>\n",
              "      <td>25.4</td>\n",
              "      <td>28.5</td>\n",
              "      <td>12.9</td>\n",
              "      <td>23.3</td>\n",
              "      <td>15.8</td>\n",
              "      <td>19.5</td>\n",
              "      <td>86.8</td>\n",
              "      <td>10.2</td>\n",
              "      <td>0.1</td>\n",
              "      <td>0.4</td>\n",
              "      <td>0.4</td>\n",
              "      <td>2.1</td>\n",
              "      <td>35.0</td>\n",
              "      <td>21380</td>\n",
              "      <td>83.9</td>\n",
              "      <td>11.9</td>\n",
              "      <td>4.0</td>\n",
              "      <td>0.1</td>\n",
              "      <td>4.9</td>\n",
              "    </tr>\n",
              "  </tbody>\n",
              "</table>\n",
              "</div>"
            ],
            "text/plain": [
              "   CountyId    State          County  ...  SelfEmployed  FamilyWork  Unemployment\n",
              "0      1001  Alabama  Autauga County  ...           5.6         0.1           5.2\n",
              "1      1003  Alabama  Baldwin County  ...           6.3         0.1           5.5\n",
              "2      1005  Alabama  Barbour County  ...           6.5         0.3          12.4\n",
              "3      1007  Alabama     Bibb County  ...           6.3         0.3           8.2\n",
              "4      1009  Alabama   Blount County  ...           4.0         0.1           4.9\n",
              "\n",
              "[5 rows x 37 columns]"
            ]
          },
          "metadata": {
            "tags": []
          },
          "execution_count": 9
        }
      ]
    },
    {
      "cell_type": "markdown",
      "metadata": {
        "id": "F6gz_ggBRKFF",
        "colab_type": "text"
      },
      "source": [
        "In order to join this dataset with the previous one, first we will need to convert the state names to their abbreviation so we can join on state and county (since the previous dataset uses state abbreviations)."
      ]
    },
    {
      "cell_type": "code",
      "metadata": {
        "id": "xEc51hBXRrqJ",
        "colab_type": "code",
        "colab": {}
      },
      "source": [
        "# Dictionary mapping states to their abbreviations\n",
        "us_state_abbrev = { 'Alabama': 'AL', 'Alaska': 'AK', 'Arizona': 'AZ', 'Arkansas': 'AR', 'California': 'CA', 'Colorado': 'CO', 'Connecticut': 'CT', 'Delaware': 'DE', 'Florida': 'FL', 'Georgia': 'GA', 'Hawaii': 'HI', 'Idaho': 'ID', 'Illinois': 'IL', 'Indiana': 'IN', 'Iowa': 'IA', 'Kansas': 'KS', 'Kentucky': 'KY', 'Louisiana': 'LA', 'Maine': 'ME', 'Maryland': 'MD', 'Massachusetts': 'MA', 'Michigan': 'MI', 'Minnesota': 'MN', 'Mississippi': 'MS', 'Missouri': 'MO', 'Montana': 'MT', 'Nebraska': 'NE', 'Nevada': 'NV', 'New Hampshire': 'NH', 'New Jersey': 'NJ', 'New Mexico': 'NM', 'New York': 'NY', 'North Carolina': 'NC', 'North Dakota': 'ND', 'Ohio': 'OH', 'Oklahoma': 'OK', 'Oregon': 'OR', 'Pennsylvania': 'PA', 'Rhode Island': 'RI', 'South Carolina': 'SC', 'South Dakota': 'SD', 'Tennessee': 'TN', 'Texas': 'TX', 'Utah': 'UT', 'Vermont': 'VT', 'Virginia': 'VA', 'Washington': 'WA', 'West Virginia': 'WV', 'Wisconsin': 'WI', 'Wyoming': 'WY', }\n",
        "\n",
        "# Replace each value in the State column with its abbreviation using the dictionary\n",
        "df = df.replace({\"State\": us_state_abbrev})"
      ],
      "execution_count": 0,
      "outputs": []
    },
    {
      "cell_type": "markdown",
      "metadata": {
        "id": "7EXdT_txbgf-",
        "colab_type": "text"
      },
      "source": [
        "There are a lot of columns in this dataset and we don't plan to use them all. To simplify things, let's select the ones we want and drop the rest."
      ]
    },
    {
      "cell_type": "code",
      "metadata": {
        "id": "iZoTu12bbo7T",
        "colab_type": "code",
        "outputId": "767f0f72-769b-46d4-be1d-fd47352b84f7",
        "colab": {
          "base_uri": "https://localhost:8080/",
          "height": 191
        }
      },
      "source": [
        "# Select the columns we want from the original dataset\n",
        "df = df[['State', 'County','CountyId','TotalPop', 'Men', 'Women', 'Hispanic',\n",
        "       'White', 'Black', 'Native', 'Asian', 'Pacific',\n",
        "       'Income', 'IncomePerCap', 'Poverty',\n",
        "       'ChildPoverty','Unemployment']]\n",
        "\n",
        "# Check new df to make sure changes were as expected\n",
        "df.head()"
      ],
      "execution_count": 11,
      "outputs": [
        {
          "output_type": "execute_result",
          "data": {
            "text/html": [
              "<div>\n",
              "<style scoped>\n",
              "    .dataframe tbody tr th:only-of-type {\n",
              "        vertical-align: middle;\n",
              "    }\n",
              "\n",
              "    .dataframe tbody tr th {\n",
              "        vertical-align: top;\n",
              "    }\n",
              "\n",
              "    .dataframe thead th {\n",
              "        text-align: right;\n",
              "    }\n",
              "</style>\n",
              "<table border=\"1\" class=\"dataframe\">\n",
              "  <thead>\n",
              "    <tr style=\"text-align: right;\">\n",
              "      <th></th>\n",
              "      <th>State</th>\n",
              "      <th>County</th>\n",
              "      <th>CountyId</th>\n",
              "      <th>TotalPop</th>\n",
              "      <th>Men</th>\n",
              "      <th>Women</th>\n",
              "      <th>Hispanic</th>\n",
              "      <th>White</th>\n",
              "      <th>Black</th>\n",
              "      <th>Native</th>\n",
              "      <th>Asian</th>\n",
              "      <th>Pacific</th>\n",
              "      <th>Income</th>\n",
              "      <th>IncomePerCap</th>\n",
              "      <th>Poverty</th>\n",
              "      <th>ChildPoverty</th>\n",
              "      <th>Unemployment</th>\n",
              "    </tr>\n",
              "  </thead>\n",
              "  <tbody>\n",
              "    <tr>\n",
              "      <th>0</th>\n",
              "      <td>AL</td>\n",
              "      <td>Autauga County</td>\n",
              "      <td>1001</td>\n",
              "      <td>55036</td>\n",
              "      <td>26899</td>\n",
              "      <td>28137</td>\n",
              "      <td>2.7</td>\n",
              "      <td>75.4</td>\n",
              "      <td>18.9</td>\n",
              "      <td>0.3</td>\n",
              "      <td>0.9</td>\n",
              "      <td>0.0</td>\n",
              "      <td>55317</td>\n",
              "      <td>27824</td>\n",
              "      <td>13.7</td>\n",
              "      <td>20.1</td>\n",
              "      <td>5.2</td>\n",
              "    </tr>\n",
              "    <tr>\n",
              "      <th>1</th>\n",
              "      <td>AL</td>\n",
              "      <td>Baldwin County</td>\n",
              "      <td>1003</td>\n",
              "      <td>203360</td>\n",
              "      <td>99527</td>\n",
              "      <td>103833</td>\n",
              "      <td>4.4</td>\n",
              "      <td>83.1</td>\n",
              "      <td>9.5</td>\n",
              "      <td>0.8</td>\n",
              "      <td>0.7</td>\n",
              "      <td>0.0</td>\n",
              "      <td>52562</td>\n",
              "      <td>29364</td>\n",
              "      <td>11.8</td>\n",
              "      <td>16.1</td>\n",
              "      <td>5.5</td>\n",
              "    </tr>\n",
              "    <tr>\n",
              "      <th>2</th>\n",
              "      <td>AL</td>\n",
              "      <td>Barbour County</td>\n",
              "      <td>1005</td>\n",
              "      <td>26201</td>\n",
              "      <td>13976</td>\n",
              "      <td>12225</td>\n",
              "      <td>4.2</td>\n",
              "      <td>45.7</td>\n",
              "      <td>47.8</td>\n",
              "      <td>0.2</td>\n",
              "      <td>0.6</td>\n",
              "      <td>0.0</td>\n",
              "      <td>33368</td>\n",
              "      <td>17561</td>\n",
              "      <td>27.2</td>\n",
              "      <td>44.9</td>\n",
              "      <td>12.4</td>\n",
              "    </tr>\n",
              "    <tr>\n",
              "      <th>3</th>\n",
              "      <td>AL</td>\n",
              "      <td>Bibb County</td>\n",
              "      <td>1007</td>\n",
              "      <td>22580</td>\n",
              "      <td>12251</td>\n",
              "      <td>10329</td>\n",
              "      <td>2.4</td>\n",
              "      <td>74.6</td>\n",
              "      <td>22.0</td>\n",
              "      <td>0.4</td>\n",
              "      <td>0.0</td>\n",
              "      <td>0.0</td>\n",
              "      <td>43404</td>\n",
              "      <td>20911</td>\n",
              "      <td>15.2</td>\n",
              "      <td>26.6</td>\n",
              "      <td>8.2</td>\n",
              "    </tr>\n",
              "    <tr>\n",
              "      <th>4</th>\n",
              "      <td>AL</td>\n",
              "      <td>Blount County</td>\n",
              "      <td>1009</td>\n",
              "      <td>57667</td>\n",
              "      <td>28490</td>\n",
              "      <td>29177</td>\n",
              "      <td>9.0</td>\n",
              "      <td>87.4</td>\n",
              "      <td>1.5</td>\n",
              "      <td>0.3</td>\n",
              "      <td>0.1</td>\n",
              "      <td>0.0</td>\n",
              "      <td>47412</td>\n",
              "      <td>22021</td>\n",
              "      <td>15.6</td>\n",
              "      <td>25.4</td>\n",
              "      <td>4.9</td>\n",
              "    </tr>\n",
              "  </tbody>\n",
              "</table>\n",
              "</div>"
            ],
            "text/plain": [
              "  State          County  CountyId  ...  Poverty  ChildPoverty  Unemployment\n",
              "0    AL  Autauga County      1001  ...     13.7          20.1           5.2\n",
              "1    AL  Baldwin County      1003  ...     11.8          16.1           5.5\n",
              "2    AL  Barbour County      1005  ...     27.2          44.9          12.4\n",
              "3    AL     Bibb County      1007  ...     15.2          26.6           8.2\n",
              "4    AL   Blount County      1009  ...     15.6          25.4           4.9\n",
              "\n",
              "[5 rows x 17 columns]"
            ]
          },
          "metadata": {
            "tags": []
          },
          "execution_count": 11
        }
      ]
    },
    {
      "cell_type": "markdown",
      "metadata": {
        "id": "2uGK1CUVXOWe",
        "colab_type": "text"
      },
      "source": [
        "Now we are ready to join the two datasets. "
      ]
    },
    {
      "cell_type": "code",
      "metadata": {
        "id": "tBZz1zb1XT7P",
        "colab_type": "code",
        "outputId": "91f4f6fd-f931-4749-8e98-ac8f9084ff2c",
        "colab": {
          "base_uri": "https://localhost:8080/",
          "height": 406
        }
      },
      "source": [
        "demographics_df = df\n",
        "\n",
        "# Join the two dataframes on the zip code column\n",
        "df = pd.merge(lead_df, demographics_df,  how='inner', left_on=['State','County'], right_on = ['State','County'])\n",
        "\n",
        "df.head()"
      ],
      "execution_count": 12,
      "outputs": [
        {
          "output_type": "execute_result",
          "data": {
            "text/html": [
              "<div>\n",
              "<style scoped>\n",
              "    .dataframe tbody tr th:only-of-type {\n",
              "        vertical-align: middle;\n",
              "    }\n",
              "\n",
              "    .dataframe tbody tr th {\n",
              "        vertical-align: top;\n",
              "    }\n",
              "\n",
              "    .dataframe thead th {\n",
              "        text-align: right;\n",
              "    }\n",
              "</style>\n",
              "<table border=\"1\" class=\"dataframe\">\n",
              "  <thead>\n",
              "    <tr style=\"text-align: right;\">\n",
              "      <th></th>\n",
              "      <th>State</th>\n",
              "      <th>County</th>\n",
              "      <th>Number of children tested</th>\n",
              "      <th>Percentage of children with levels higher than 5 ug/dl</th>\n",
              "      <th>Percentage of children with levels higher than 10 ug/dl</th>\n",
              "      <th>Percentage of population under the poverty line</th>\n",
              "      <th>CountyId</th>\n",
              "      <th>TotalPop</th>\n",
              "      <th>Men</th>\n",
              "      <th>Women</th>\n",
              "      <th>Hispanic</th>\n",
              "      <th>White</th>\n",
              "      <th>Black</th>\n",
              "      <th>Native</th>\n",
              "      <th>Asian</th>\n",
              "      <th>Pacific</th>\n",
              "      <th>Income</th>\n",
              "      <th>IncomePerCap</th>\n",
              "      <th>Poverty</th>\n",
              "      <th>ChildPoverty</th>\n",
              "      <th>Unemployment</th>\n",
              "    </tr>\n",
              "  </thead>\n",
              "  <tbody>\n",
              "    <tr>\n",
              "      <th>0</th>\n",
              "      <td>AL</td>\n",
              "      <td>Baldwin County</td>\n",
              "      <td>357</td>\n",
              "      <td>1.7</td>\n",
              "      <td>0.6</td>\n",
              "      <td>13.8</td>\n",
              "      <td>1003</td>\n",
              "      <td>203360</td>\n",
              "      <td>99527</td>\n",
              "      <td>103833</td>\n",
              "      <td>4.4</td>\n",
              "      <td>83.1</td>\n",
              "      <td>9.5</td>\n",
              "      <td>0.8</td>\n",
              "      <td>0.7</td>\n",
              "      <td>0.0</td>\n",
              "      <td>52562</td>\n",
              "      <td>29364</td>\n",
              "      <td>11.8</td>\n",
              "      <td>16.1</td>\n",
              "      <td>5.5</td>\n",
              "    </tr>\n",
              "    <tr>\n",
              "      <th>1</th>\n",
              "      <td>AL</td>\n",
              "      <td>Blount County</td>\n",
              "      <td>250</td>\n",
              "      <td>1.2</td>\n",
              "      <td>0.0</td>\n",
              "      <td>17.3</td>\n",
              "      <td>1009</td>\n",
              "      <td>57667</td>\n",
              "      <td>28490</td>\n",
              "      <td>29177</td>\n",
              "      <td>9.0</td>\n",
              "      <td>87.4</td>\n",
              "      <td>1.5</td>\n",
              "      <td>0.3</td>\n",
              "      <td>0.1</td>\n",
              "      <td>0.0</td>\n",
              "      <td>47412</td>\n",
              "      <td>22021</td>\n",
              "      <td>15.6</td>\n",
              "      <td>25.4</td>\n",
              "      <td>4.9</td>\n",
              "    </tr>\n",
              "    <tr>\n",
              "      <th>2</th>\n",
              "      <td>AL</td>\n",
              "      <td>Bullock County</td>\n",
              "      <td>148</td>\n",
              "      <td>5.4</td>\n",
              "      <td>0.7</td>\n",
              "      <td>20.5</td>\n",
              "      <td>1011</td>\n",
              "      <td>10478</td>\n",
              "      <td>5616</td>\n",
              "      <td>4862</td>\n",
              "      <td>0.3</td>\n",
              "      <td>21.6</td>\n",
              "      <td>75.6</td>\n",
              "      <td>1.0</td>\n",
              "      <td>0.7</td>\n",
              "      <td>0.0</td>\n",
              "      <td>29655</td>\n",
              "      <td>20856</td>\n",
              "      <td>28.5</td>\n",
              "      <td>50.4</td>\n",
              "      <td>12.1</td>\n",
              "    </tr>\n",
              "    <tr>\n",
              "      <th>3</th>\n",
              "      <td>AL</td>\n",
              "      <td>Butler County</td>\n",
              "      <td>102</td>\n",
              "      <td>2.0</td>\n",
              "      <td>0.0</td>\n",
              "      <td>25.9</td>\n",
              "      <td>1013</td>\n",
              "      <td>20126</td>\n",
              "      <td>9416</td>\n",
              "      <td>10710</td>\n",
              "      <td>0.3</td>\n",
              "      <td>52.2</td>\n",
              "      <td>44.7</td>\n",
              "      <td>0.1</td>\n",
              "      <td>1.1</td>\n",
              "      <td>0.0</td>\n",
              "      <td>36326</td>\n",
              "      <td>19004</td>\n",
              "      <td>24.4</td>\n",
              "      <td>34.8</td>\n",
              "      <td>7.6</td>\n",
              "    </tr>\n",
              "    <tr>\n",
              "      <th>4</th>\n",
              "      <td>AL</td>\n",
              "      <td>Calhoun County</td>\n",
              "      <td>269</td>\n",
              "      <td>5.2</td>\n",
              "      <td>1.5</td>\n",
              "      <td>21.7</td>\n",
              "      <td>1015</td>\n",
              "      <td>115527</td>\n",
              "      <td>55593</td>\n",
              "      <td>59934</td>\n",
              "      <td>3.6</td>\n",
              "      <td>72.7</td>\n",
              "      <td>20.4</td>\n",
              "      <td>0.2</td>\n",
              "      <td>1.0</td>\n",
              "      <td>0.0</td>\n",
              "      <td>43686</td>\n",
              "      <td>23638</td>\n",
              "      <td>18.6</td>\n",
              "      <td>26.6</td>\n",
              "      <td>10.1</td>\n",
              "    </tr>\n",
              "  </tbody>\n",
              "</table>\n",
              "</div>"
            ],
            "text/plain": [
              "  State          County  ...  ChildPoverty  Unemployment\n",
              "0    AL  Baldwin County  ...          16.1           5.5\n",
              "1    AL   Blount County  ...          25.4           4.9\n",
              "2    AL  Bullock County  ...          50.4          12.1\n",
              "3    AL   Butler County  ...          34.8           7.6\n",
              "4    AL  Calhoun County  ...          26.6          10.1\n",
              "\n",
              "[5 rows x 21 columns]"
            ]
          },
          "metadata": {
            "tags": []
          },
          "execution_count": 12
        }
      ]
    },
    {
      "cell_type": "markdown",
      "metadata": {
        "id": "6TiVlLf6UIL1",
        "colab_type": "text"
      },
      "source": [
        "Let's see which counties have the highest percentage of children with blood lead levels higher than 5 ug/dl."
      ]
    },
    {
      "cell_type": "code",
      "metadata": {
        "id": "473qur_nUQtB",
        "colab_type": "code",
        "outputId": "a2ebeb16-0007-4ab4-f29f-86576867f249",
        "colab": {
          "base_uri": "https://localhost:8080/",
          "height": 647
        }
      },
      "source": [
        "df.nlargest(10,'Percentage of children with levels higher than 5 ug/dl')"
      ],
      "execution_count": 13,
      "outputs": [
        {
          "output_type": "execute_result",
          "data": {
            "text/html": [
              "<div>\n",
              "<style scoped>\n",
              "    .dataframe tbody tr th:only-of-type {\n",
              "        vertical-align: middle;\n",
              "    }\n",
              "\n",
              "    .dataframe tbody tr th {\n",
              "        vertical-align: top;\n",
              "    }\n",
              "\n",
              "    .dataframe thead th {\n",
              "        text-align: right;\n",
              "    }\n",
              "</style>\n",
              "<table border=\"1\" class=\"dataframe\">\n",
              "  <thead>\n",
              "    <tr style=\"text-align: right;\">\n",
              "      <th></th>\n",
              "      <th>State</th>\n",
              "      <th>County</th>\n",
              "      <th>Number of children tested</th>\n",
              "      <th>Percentage of children with levels higher than 5 ug/dl</th>\n",
              "      <th>Percentage of children with levels higher than 10 ug/dl</th>\n",
              "      <th>Percentage of population under the poverty line</th>\n",
              "      <th>CountyId</th>\n",
              "      <th>TotalPop</th>\n",
              "      <th>Men</th>\n",
              "      <th>Women</th>\n",
              "      <th>Hispanic</th>\n",
              "      <th>White</th>\n",
              "      <th>Black</th>\n",
              "      <th>Native</th>\n",
              "      <th>Asian</th>\n",
              "      <th>Pacific</th>\n",
              "      <th>Income</th>\n",
              "      <th>IncomePerCap</th>\n",
              "      <th>Poverty</th>\n",
              "      <th>ChildPoverty</th>\n",
              "      <th>Unemployment</th>\n",
              "    </tr>\n",
              "  </thead>\n",
              "  <tbody>\n",
              "    <tr>\n",
              "      <th>835</th>\n",
              "      <td>NM</td>\n",
              "      <td>Colfax County</td>\n",
              "      <td>33</td>\n",
              "      <td>100.0</td>\n",
              "      <td>0.0</td>\n",
              "      <td>18.9</td>\n",
              "      <td>35007</td>\n",
              "      <td>12522</td>\n",
              "      <td>6317</td>\n",
              "      <td>6205</td>\n",
              "      <td>49.2</td>\n",
              "      <td>47.2</td>\n",
              "      <td>0.6</td>\n",
              "      <td>1.0</td>\n",
              "      <td>0.3</td>\n",
              "      <td>0.0</td>\n",
              "      <td>33042</td>\n",
              "      <td>21785</td>\n",
              "      <td>23.5</td>\n",
              "      <td>35.0</td>\n",
              "      <td>10.0</td>\n",
              "    </tr>\n",
              "    <tr>\n",
              "      <th>857</th>\n",
              "      <td>NM</td>\n",
              "      <td>Socorro County</td>\n",
              "      <td>137</td>\n",
              "      <td>99.3</td>\n",
              "      <td>0.0</td>\n",
              "      <td>25.1</td>\n",
              "      <td>35053</td>\n",
              "      <td>17098</td>\n",
              "      <td>9066</td>\n",
              "      <td>8032</td>\n",
              "      <td>49.7</td>\n",
              "      <td>35.1</td>\n",
              "      <td>0.1</td>\n",
              "      <td>8.8</td>\n",
              "      <td>2.2</td>\n",
              "      <td>0.0</td>\n",
              "      <td>34008</td>\n",
              "      <td>17017</td>\n",
              "      <td>26.6</td>\n",
              "      <td>35.8</td>\n",
              "      <td>4.2</td>\n",
              "    </tr>\n",
              "    <tr>\n",
              "      <th>849</th>\n",
              "      <td>NM</td>\n",
              "      <td>Quay County</td>\n",
              "      <td>52</td>\n",
              "      <td>98.1</td>\n",
              "      <td>0.0</td>\n",
              "      <td>20.1</td>\n",
              "      <td>35037</td>\n",
              "      <td>8447</td>\n",
              "      <td>4057</td>\n",
              "      <td>4390</td>\n",
              "      <td>44.7</td>\n",
              "      <td>50.4</td>\n",
              "      <td>1.6</td>\n",
              "      <td>1.0</td>\n",
              "      <td>0.7</td>\n",
              "      <td>0.2</td>\n",
              "      <td>26663</td>\n",
              "      <td>18220</td>\n",
              "      <td>21.6</td>\n",
              "      <td>37.2</td>\n",
              "      <td>4.0</td>\n",
              "    </tr>\n",
              "    <tr>\n",
              "      <th>860</th>\n",
              "      <td>NM</td>\n",
              "      <td>Valencia County</td>\n",
              "      <td>480</td>\n",
              "      <td>97.1</td>\n",
              "      <td>0.4</td>\n",
              "      <td>24.8</td>\n",
              "      <td>35061</td>\n",
              "      <td>75845</td>\n",
              "      <td>38013</td>\n",
              "      <td>37832</td>\n",
              "      <td>60.0</td>\n",
              "      <td>33.6</td>\n",
              "      <td>0.8</td>\n",
              "      <td>3.6</td>\n",
              "      <td>0.5</td>\n",
              "      <td>0.0</td>\n",
              "      <td>43428</td>\n",
              "      <td>20572</td>\n",
              "      <td>22.0</td>\n",
              "      <td>29.1</td>\n",
              "      <td>9.1</td>\n",
              "    </tr>\n",
              "    <tr>\n",
              "      <th>831</th>\n",
              "      <td>NM</td>\n",
              "      <td>Bernalillo County</td>\n",
              "      <td>1949</td>\n",
              "      <td>95.7</td>\n",
              "      <td>0.3</td>\n",
              "      <td>18.6</td>\n",
              "      <td>35001</td>\n",
              "      <td>674855</td>\n",
              "      <td>330743</td>\n",
              "      <td>344112</td>\n",
              "      <td>49.5</td>\n",
              "      <td>39.5</td>\n",
              "      <td>2.5</td>\n",
              "      <td>4.0</td>\n",
              "      <td>2.3</td>\n",
              "      <td>0.1</td>\n",
              "      <td>50386</td>\n",
              "      <td>28340</td>\n",
              "      <td>18.0</td>\n",
              "      <td>25.5</td>\n",
              "      <td>6.7</td>\n",
              "    </tr>\n",
              "    <tr>\n",
              "      <th>845</th>\n",
              "      <td>NM</td>\n",
              "      <td>Los Alamos County</td>\n",
              "      <td>13</td>\n",
              "      <td>92.3</td>\n",
              "      <td>0.0</td>\n",
              "      <td>5.5</td>\n",
              "      <td>35028</td>\n",
              "      <td>18031</td>\n",
              "      <td>9135</td>\n",
              "      <td>8896</td>\n",
              "      <td>17.2</td>\n",
              "      <td>72.9</td>\n",
              "      <td>0.3</td>\n",
              "      <td>1.0</td>\n",
              "      <td>6.0</td>\n",
              "      <td>0.0</td>\n",
              "      <td>110190</td>\n",
              "      <td>52125</td>\n",
              "      <td>5.1</td>\n",
              "      <td>5.4</td>\n",
              "      <td>3.7</td>\n",
              "    </tr>\n",
              "    <tr>\n",
              "      <th>836</th>\n",
              "      <td>NM</td>\n",
              "      <td>Curry County</td>\n",
              "      <td>136</td>\n",
              "      <td>91.9</td>\n",
              "      <td>0.0</td>\n",
              "      <td>19.9</td>\n",
              "      <td>35009</td>\n",
              "      <td>50283</td>\n",
              "      <td>26139</td>\n",
              "      <td>24144</td>\n",
              "      <td>41.0</td>\n",
              "      <td>49.1</td>\n",
              "      <td>5.5</td>\n",
              "      <td>0.9</td>\n",
              "      <td>1.4</td>\n",
              "      <td>0.1</td>\n",
              "      <td>41941</td>\n",
              "      <td>22628</td>\n",
              "      <td>22.5</td>\n",
              "      <td>34.2</td>\n",
              "      <td>7.8</td>\n",
              "    </tr>\n",
              "    <tr>\n",
              "      <th>837</th>\n",
              "      <td>NM</td>\n",
              "      <td>De Baca County</td>\n",
              "      <td>12</td>\n",
              "      <td>91.7</td>\n",
              "      <td>0.0</td>\n",
              "      <td>21.6</td>\n",
              "      <td>35011</td>\n",
              "      <td>2016</td>\n",
              "      <td>926</td>\n",
              "      <td>1090</td>\n",
              "      <td>46.0</td>\n",
              "      <td>52.2</td>\n",
              "      <td>1.5</td>\n",
              "      <td>0.0</td>\n",
              "      <td>0.0</td>\n",
              "      <td>0.0</td>\n",
              "      <td>31439</td>\n",
              "      <td>24571</td>\n",
              "      <td>22.7</td>\n",
              "      <td>22.4</td>\n",
              "      <td>6.6</td>\n",
              "    </tr>\n",
              "    <tr>\n",
              "      <th>841</th>\n",
              "      <td>NM</td>\n",
              "      <td>Guadalupe County</td>\n",
              "      <td>8</td>\n",
              "      <td>87.5</td>\n",
              "      <td>0.0</td>\n",
              "      <td>15.3</td>\n",
              "      <td>35019</td>\n",
              "      <td>4426</td>\n",
              "      <td>2645</td>\n",
              "      <td>1781</td>\n",
              "      <td>82.1</td>\n",
              "      <td>15.1</td>\n",
              "      <td>1.3</td>\n",
              "      <td>1.3</td>\n",
              "      <td>0.0</td>\n",
              "      <td>0.0</td>\n",
              "      <td>26060</td>\n",
              "      <td>18086</td>\n",
              "      <td>13.0</td>\n",
              "      <td>19.8</td>\n",
              "      <td>1.5</td>\n",
              "    </tr>\n",
              "    <tr>\n",
              "      <th>844</th>\n",
              "      <td>NM</td>\n",
              "      <td>Lincoln County</td>\n",
              "      <td>94</td>\n",
              "      <td>87.2</td>\n",
              "      <td>0.0</td>\n",
              "      <td>16.2</td>\n",
              "      <td>35027</td>\n",
              "      <td>19497</td>\n",
              "      <td>9399</td>\n",
              "      <td>10098</td>\n",
              "      <td>31.9</td>\n",
              "      <td>63.4</td>\n",
              "      <td>0.6</td>\n",
              "      <td>1.6</td>\n",
              "      <td>0.5</td>\n",
              "      <td>0.0</td>\n",
              "      <td>42145</td>\n",
              "      <td>26820</td>\n",
              "      <td>15.4</td>\n",
              "      <td>17.5</td>\n",
              "      <td>5.2</td>\n",
              "    </tr>\n",
              "  </tbody>\n",
              "</table>\n",
              "</div>"
            ],
            "text/plain": [
              "    State             County  ...  ChildPoverty  Unemployment\n",
              "835    NM      Colfax County  ...          35.0          10.0\n",
              "857    NM     Socorro County  ...          35.8           4.2\n",
              "849    NM        Quay County  ...          37.2           4.0\n",
              "860    NM    Valencia County  ...          29.1           9.1\n",
              "831    NM  Bernalillo County  ...          25.5           6.7\n",
              "845    NM  Los Alamos County  ...           5.4           3.7\n",
              "836    NM       Curry County  ...          34.2           7.8\n",
              "837    NM     De Baca County  ...          22.4           6.6\n",
              "841    NM   Guadalupe County  ...          19.8           1.5\n",
              "844    NM     Lincoln County  ...          17.5           5.2\n",
              "\n",
              "[10 rows x 21 columns]"
            ]
          },
          "metadata": {
            "tags": []
          },
          "execution_count": 13
        }
      ]
    },
    {
      "cell_type": "markdown",
      "metadata": {
        "id": "dwiyvt_lcdzX",
        "colab_type": "text"
      },
      "source": [
        "With this new dataframe, let us look at the correlation coefficients. "
      ]
    },
    {
      "cell_type": "code",
      "metadata": {
        "id": "OhahSXPgcrqd",
        "colab_type": "code",
        "outputId": "1a121b36-3b44-49bc-c402-6b662452d33f",
        "colab": {
          "base_uri": "https://localhost:8080/",
          "height": 342
        }
      },
      "source": [
        "df.corr()['Percentage of children with levels higher than 5 ug/dl']"
      ],
      "execution_count": 14,
      "outputs": [
        {
          "output_type": "execute_result",
          "data": {
            "text/plain": [
              "Number of children tested                                 -0.047462\n",
              "Percentage of children with levels higher than 5 ug/dl     1.000000\n",
              "Percentage of children with levels higher than 10 ug/dl    0.305873\n",
              "Percentage of population under the poverty line            0.090726\n",
              "CountyId                                                   0.035934\n",
              "TotalPop                                                  -0.032554\n",
              "Men                                                       -0.032975\n",
              "Women                                                     -0.032149\n",
              "Hispanic                                                   0.389454\n",
              "White                                                     -0.196925\n",
              "Black                                                     -0.009767\n",
              "Native                                                     0.064107\n",
              "Asian                                                     -0.060347\n",
              "Pacific                                                    0.001907\n",
              "Income                                                    -0.113483\n",
              "IncomePerCap                                              -0.073427\n",
              "Poverty                                                    0.119328\n",
              "ChildPoverty                                               0.116804\n",
              "Unemployment                                               0.059497\n",
              "Name: Percentage of children with levels higher than 5 ug/dl, dtype: float64"
            ]
          },
          "metadata": {
            "tags": []
          },
          "execution_count": 14
        }
      ]
    },
    {
      "cell_type": "code",
      "metadata": {
        "id": "MVWc8vMhdvk1",
        "colab_type": "code",
        "outputId": "29b32424-3e6c-4012-9b94-0240c8dd4778",
        "colab": {
          "base_uri": "https://localhost:8080/",
          "height": 321
        }
      },
      "source": [
        "plt.scatter(df['Hispanic'],df['Percentage of children with levels higher than 5 ug/dl'])\n",
        "plt.ylabel('Percentage of children with levels higher than 5 ug/dl')\n",
        "plt.xlabel('Percentage of Hispanics')"
      ],
      "execution_count": 15,
      "outputs": [
        {
          "output_type": "execute_result",
          "data": {
            "text/plain": [
              "Text(0.5, 0, 'Percentage of Hispanics')"
            ]
          },
          "metadata": {
            "tags": []
          },
          "execution_count": 15
        },
        {
          "output_type": "display_data",
          "data": {
            "image/png": "[encoded data removed]",
            "text/plain": [
              "<Figure size 432x288 with 1 Axes>"
            ]
          },
          "metadata": {
            "tags": []
          }
        }
      ]
    },
    {
      "cell_type": "markdown",
      "metadata": {
        "id": "bi3Qa22VeBiE",
        "colab_type": "text"
      },
      "source": [
        "When we look at national data, we see slightly different results than what we saw for NYS data. Here, the percentage of hispanics is the columns that is has the most significant correlation with the percentage of children with levels higher than 5 ug/dl (~ 0.39!). This dataset is taken by county whereas the other was taken by zip code, allowing for greater granularity, which may explain the differences.\n",
        "\n",
        "Correlation with % of whites is -0.19 here, whereas it was about -0.23 in NYS which is pretty close. The correlation with % of blacks seems to be the most unexpected, and quite different than what we saw in NYS. However, this does not mean there is no correlation at a national level. We have to keep in mind that NYS tends to collect more surveillance data across its counties in comparison to other states. There are many cases of places in the US where little to no data is collected regarding lead levels. \n",
        "\n",
        "The correlation with income and poverty is slightly stronger than what we saw in the NYS data at around -0.11 for income and 0.12 for poverty."
      ]
    },
    {
      "cell_type": "markdown",
      "metadata": {
        "id": "5vepFy3e0wXg",
        "colab_type": "text"
      },
      "source": [
        "## Mapping the Percent Elevated BLL Across the US"
      ]
    },
    {
      "cell_type": "code",
      "metadata": {
        "id": "FANYjuiitNnM",
        "colab_type": "code",
        "colab": {
          "base_uri": "https://localhost:8080/",
          "height": 406
        },
        "outputId": "985c8330-4f77-4978-8abe-b200f5a82303"
      },
      "source": [
        "  df = df.astype({'CountyId': str})\n",
        "  df.head()"
      ],
      "execution_count": 16,
      "outputs": [
        {
          "output_type": "execute_result",
          "data": {
            "text/html": [
              "<div>\n",
              "<style scoped>\n",
              "    .dataframe tbody tr th:only-of-type {\n",
              "        vertical-align: middle;\n",
              "    }\n",
              "\n",
              "    .dataframe tbody tr th {\n",
              "        vertical-align: top;\n",
              "    }\n",
              "\n",
              "    .dataframe thead th {\n",
              "        text-align: right;\n",
              "    }\n",
              "</style>\n",
              "<table border=\"1\" class=\"dataframe\">\n",
              "  <thead>\n",
              "    <tr style=\"text-align: right;\">\n",
              "      <th></th>\n",
              "      <th>State</th>\n",
              "      <th>County</th>\n",
              "      <th>Number of children tested</th>\n",
              "      <th>Percentage of children with levels higher than 5 ug/dl</th>\n",
              "      <th>Percentage of children with levels higher than 10 ug/dl</th>\n",
              "      <th>Percentage of population under the poverty line</th>\n",
              "      <th>CountyId</th>\n",
              "      <th>TotalPop</th>\n",
              "      <th>Men</th>\n",
              "      <th>Women</th>\n",
              "      <th>Hispanic</th>\n",
              "      <th>White</th>\n",
              "      <th>Black</th>\n",
              "      <th>Native</th>\n",
              "      <th>Asian</th>\n",
              "      <th>Pacific</th>\n",
              "      <th>Income</th>\n",
              "      <th>IncomePerCap</th>\n",
              "      <th>Poverty</th>\n",
              "      <th>ChildPoverty</th>\n",
              "      <th>Unemployment</th>\n",
              "    </tr>\n",
              "  </thead>\n",
              "  <tbody>\n",
              "    <tr>\n",
              "      <th>0</th>\n",
              "      <td>AL</td>\n",
              "      <td>Baldwin County</td>\n",
              "      <td>357</td>\n",
              "      <td>1.7</td>\n",
              "      <td>0.6</td>\n",
              "      <td>13.8</td>\n",
              "      <td>1003</td>\n",
              "      <td>203360</td>\n",
              "      <td>99527</td>\n",
              "      <td>103833</td>\n",
              "      <td>4.4</td>\n",
              "      <td>83.1</td>\n",
              "      <td>9.5</td>\n",
              "      <td>0.8</td>\n",
              "      <td>0.7</td>\n",
              "      <td>0.0</td>\n",
              "      <td>52562</td>\n",
              "      <td>29364</td>\n",
              "      <td>11.8</td>\n",
              "      <td>16.1</td>\n",
              "      <td>5.5</td>\n",
              "    </tr>\n",
              "    <tr>\n",
              "      <th>1</th>\n",
              "      <td>AL</td>\n",
              "      <td>Blount County</td>\n",
              "      <td>250</td>\n",
              "      <td>1.2</td>\n",
              "      <td>0.0</td>\n",
              "      <td>17.3</td>\n",
              "      <td>1009</td>\n",
              "      <td>57667</td>\n",
              "      <td>28490</td>\n",
              "      <td>29177</td>\n",
              "      <td>9.0</td>\n",
              "      <td>87.4</td>\n",
              "      <td>1.5</td>\n",
              "      <td>0.3</td>\n",
              "      <td>0.1</td>\n",
              "      <td>0.0</td>\n",
              "      <td>47412</td>\n",
              "      <td>22021</td>\n",
              "      <td>15.6</td>\n",
              "      <td>25.4</td>\n",
              "      <td>4.9</td>\n",
              "    </tr>\n",
              "    <tr>\n",
              "      <th>2</th>\n",
              "      <td>AL</td>\n",
              "      <td>Bullock County</td>\n",
              "      <td>148</td>\n",
              "      <td>5.4</td>\n",
              "      <td>0.7</td>\n",
              "      <td>20.5</td>\n",
              "      <td>1011</td>\n",
              "      <td>10478</td>\n",
              "      <td>5616</td>\n",
              "      <td>4862</td>\n",
              "      <td>0.3</td>\n",
              "      <td>21.6</td>\n",
              "      <td>75.6</td>\n",
              "      <td>1.0</td>\n",
              "      <td>0.7</td>\n",
              "      <td>0.0</td>\n",
              "      <td>29655</td>\n",
              "      <td>20856</td>\n",
              "      <td>28.5</td>\n",
              "      <td>50.4</td>\n",
              "      <td>12.1</td>\n",
              "    </tr>\n",
              "    <tr>\n",
              "      <th>3</th>\n",
              "      <td>AL</td>\n",
              "      <td>Butler County</td>\n",
              "      <td>102</td>\n",
              "      <td>2.0</td>\n",
              "      <td>0.0</td>\n",
              "      <td>25.9</td>\n",
              "      <td>1013</td>\n",
              "      <td>20126</td>\n",
              "      <td>9416</td>\n",
              "      <td>10710</td>\n",
              "      <td>0.3</td>\n",
              "      <td>52.2</td>\n",
              "      <td>44.7</td>\n",
              "      <td>0.1</td>\n",
              "      <td>1.1</td>\n",
              "      <td>0.0</td>\n",
              "      <td>36326</td>\n",
              "      <td>19004</td>\n",
              "      <td>24.4</td>\n",
              "      <td>34.8</td>\n",
              "      <td>7.6</td>\n",
              "    </tr>\n",
              "    <tr>\n",
              "      <th>4</th>\n",
              "      <td>AL</td>\n",
              "      <td>Calhoun County</td>\n",
              "      <td>269</td>\n",
              "      <td>5.2</td>\n",
              "      <td>1.5</td>\n",
              "      <td>21.7</td>\n",
              "      <td>1015</td>\n",
              "      <td>115527</td>\n",
              "      <td>55593</td>\n",
              "      <td>59934</td>\n",
              "      <td>3.6</td>\n",
              "      <td>72.7</td>\n",
              "      <td>20.4</td>\n",
              "      <td>0.2</td>\n",
              "      <td>1.0</td>\n",
              "      <td>0.0</td>\n",
              "      <td>43686</td>\n",
              "      <td>23638</td>\n",
              "      <td>18.6</td>\n",
              "      <td>26.6</td>\n",
              "      <td>10.1</td>\n",
              "    </tr>\n",
              "  </tbody>\n",
              "</table>\n",
              "</div>"
            ],
            "text/plain": [
              "  State          County  ...  ChildPoverty  Unemployment\n",
              "0    AL  Baldwin County  ...          16.1           5.5\n",
              "1    AL   Blount County  ...          25.4           4.9\n",
              "2    AL  Bullock County  ...          50.4          12.1\n",
              "3    AL   Butler County  ...          34.8           7.6\n",
              "4    AL  Calhoun County  ...          26.6          10.1\n",
              "\n",
              "[5 rows x 21 columns]"
            ]
          },
          "metadata": {
            "tags": []
          },
          "execution_count": 16
        }
      ]
    },
    {
      "cell_type": "code",
      "metadata": {
        "id": "la_NiYzXrc9f",
        "colab_type": "code",
        "colab": {
          "base_uri": "https://localhost:8080/",
          "height": 521
        },
        "outputId": "a9c119fc-ff82-48f4-c430-100434f7f8cc"
      },
      "source": [
        "!pip install --upgrade plotly\n",
        "!pip install --upgrade geopandas\n",
        "!pip install --upgrade pyshp\n",
        "!pip install --upgrade shapely\n",
        "\n"
      ],
      "execution_count": 17,
      "outputs": [
        {
          "output_type": "stream",
          "text": [
            "Requirement already up-to-date: plotly in /usr/local/lib/python3.6/dist-packages (3.9.0)\n",
            "Requirement already satisfied, skipping upgrade: nbformat>=4.2 in /usr/local/lib/python3.6/dist-packages (from plotly) (4.4.0)\n",
            "Requirement already satisfied, skipping upgrade: pytz in /usr/local/lib/python3.6/dist-packages (from plotly) (2018.9)\n",
            "Requirement already satisfied, skipping upgrade: requests in /usr/local/lib/python3.6/dist-packages (from plotly) (2.21.0)\n",
            "Requirement already satisfied, skipping upgrade: decorator>=4.0.6 in /usr/local/lib/python3.6/dist-packages (from plotly) (4.4.0)\n",
            "Requirement already satisfied, skipping upgrade: six in /usr/local/lib/python3.6/dist-packages (from plotly) (1.12.0)\n",
            "Requirement already satisfied, skipping upgrade: retrying>=1.3.3 in /usr/local/lib/python3.6/dist-packages (from plotly) (1.3.3)\n",
            "Requirement already satisfied, skipping upgrade: traitlets>=4.1 in /usr/local/lib/python3.6/dist-packages (from nbformat>=4.2->plotly) (4.3.2)\n",
            "Requirement already satisfied, skipping upgrade: jupyter-core in /usr/local/lib/python3.6/dist-packages (from nbformat>=4.2->plotly) (4.4.0)\n",
            "Requirement already satisfied, skipping upgrade: ipython-genutils in /usr/local/lib/python3.6/dist-packages (from nbformat>=4.2->plotly) (0.2.0)\n",
            "Requirement already satisfied, skipping upgrade: jsonschema!=2.5.0,>=2.4 in /usr/local/lib/python3.6/dist-packages (from nbformat>=4.2->plotly) (2.6.0)\n",
            "Requirement already satisfied, skipping upgrade: idna<2.9,>=2.5 in /usr/local/lib/python3.6/dist-packages (from requests->plotly) (2.8)\n",
            "Requirement already satisfied, skipping upgrade: urllib3<1.25,>=1.21.1 in /usr/local/lib/python3.6/dist-packages (from requests->plotly) (1.24.3)\n",
            "Requirement already satisfied, skipping upgrade: chardet<3.1.0,>=3.0.2 in /usr/local/lib/python3.6/dist-packages (from requests->plotly) (3.0.4)\n",
            "Requirement already satisfied, skipping upgrade: certifi>=2017.4.17 in /usr/local/lib/python3.6/dist-packages (from requests->plotly) (2019.3.9)\n",
            "Requirement already up-to-date: geopandas in /usr/local/lib/python3.6/dist-packages (0.5.0)\n",
            "Requirement already satisfied, skipping upgrade: pandas in /usr/local/lib/python3.6/dist-packages (from geopandas) (0.24.2)\n",
            "Requirement already satisfied, skipping upgrade: fiona in /usr/local/lib/python3.6/dist-packages (from geopandas) (1.8.6)\n",
            "Requirement already satisfied, skipping upgrade: shapely in /usr/local/lib/python3.6/dist-packages (from geopandas) (1.6.4.post2)\n",
            "Requirement already satisfied, skipping upgrade: pyproj in /usr/local/lib/python3.6/dist-packages (from geopandas) (2.1.3)\n",
            "Requirement already satisfied, skipping upgrade: numpy>=1.12.0 in /usr/local/lib/python3.6/dist-packages (from pandas->geopandas) (1.16.3)\n",
            "Requirement already satisfied, skipping upgrade: python-dateutil>=2.5.0 in /usr/local/lib/python3.6/dist-packages (from pandas->geopandas) (2.5.3)\n",
            "Requirement already satisfied, skipping upgrade: pytz>=2011k in /usr/local/lib/python3.6/dist-packages (from pandas->geopandas) (2018.9)\n",
            "Requirement already satisfied, skipping upgrade: attrs>=17 in /usr/local/lib/python3.6/dist-packages (from fiona->geopandas) (19.1.0)\n",
            "Requirement already satisfied, skipping upgrade: munch in /usr/local/lib/python3.6/dist-packages (from fiona->geopandas) (2.3.2)\n",
            "Requirement already satisfied, skipping upgrade: click-plugins>=1.0 in /usr/local/lib/python3.6/dist-packages (from fiona->geopandas) (1.1.1)\n",
            "Requirement already satisfied, skipping upgrade: click<8,>=4.0 in /usr/local/lib/python3.6/dist-packages (from fiona->geopandas) (7.0)\n",
            "Requirement already satisfied, skipping upgrade: six>=1.7 in /usr/local/lib/python3.6/dist-packages (from fiona->geopandas) (1.12.0)\n",
            "Requirement already satisfied, skipping upgrade: cligj>=0.5 in /usr/local/lib/python3.6/dist-packages (from fiona->geopandas) (0.5.0)\n",
            "Requirement already up-to-date: pyshp in /usr/local/lib/python3.6/dist-packages (2.1.0)\n",
            "Requirement already up-to-date: shapely in /usr/local/lib/python3.6/dist-packages (1.6.4.post2)\n"
          ],
          "name": "stdout"
        }
      ]
    },
    {
      "cell_type": "code",
      "metadata": {
        "id": "sZA-ec9AyhIr",
        "colab_type": "code",
        "colab": {}
      },
      "source": [
        "import plotly\n",
        "import plotly.figure_factory as ff"
      ],
      "execution_count": 0,
      "outputs": []
    },
    {
      "cell_type": "code",
      "metadata": {
        "id": "cSPbPHmeyBIY",
        "colab_type": "code",
        "colab": {}
      },
      "source": [
        "df['CountyId'] = df['CountyId'].apply(lambda x: x.zfill(5))\n",
        "\n",
        "fips = df['CountyId'].tolist()\n",
        "values = df['Percentage of children with levels higher than 5 ug/dl'].tolist()"
      ],
      "execution_count": 0,
      "outputs": []
    },
    {
      "cell_type": "code",
      "metadata": {
        "id": "lanup9QSyqDI",
        "colab_type": "code",
        "colab": {}
      },
      "source": [
        "plotly.tools.set_credentials_file(username='ahalyasanjiv', \n",
        "                                  api_key='4BQZDkQFd3W9LwHQRQpO')"
      ],
      "execution_count": 0,
      "outputs": []
    },
    {
      "cell_type": "code",
      "metadata": {
        "id": "C3o5Fq_3ys1Z",
        "colab_type": "code",
        "colab": {
          "base_uri": "https://localhost:8080/",
          "height": 670
        },
        "outputId": "54589512-9acd-4d92-c5bc-8d85048beb3f"
      },
      "source": [
        "fig = ff.create_choropleth(fips=fips, values=values, legend_title='Percentage of Elevated Concentrations of Lead Found in Blood')\n",
        "plotly.plotly.iplot(fig, filename='Map of blood lead levels')"
      ],
      "execution_count": 33,
      "outputs": [
        {
          "output_type": "stream",
          "text": [
            "/usr/local/lib/python3.6/dist-packages/pandas/core/frame.py:6692: FutureWarning:\n",
            "\n",
            "Sorting because non-concatenation axis is not aligned. A future version\n",
            "of pandas will change to not sort by default.\n",
            "\n",
            "To accept the future behavior, pass 'sort=False'.\n",
            "\n",
            "To retain the current behavior and silence the warning, pass 'sort=True'.\n",
            "\n",
            "\n"
          ],
          "name": "stderr"
        },
        {
          "output_type": "stream",
          "text": [
            "High five! You successfully sent some data to your account on plotly. View your plot in your browser at https://plot.ly/~ahalyasanjiv/0 or inside your plot.ly account where it is named 'Map of blood lead levels'\n"
          ],
          "name": "stdout"
        },
        {
          "output_type": "execute_result",
          "data": {
            "text/html": [
              "<iframe id=\"igraph\" scrolling=\"no\" style=\"border:none;\" seamless=\"seamless\" src=\"https://plot.ly/~ahalyasanjiv/0.embed\" height=\"450px\" width=\"900px\"></iframe>"
            ],
            "text/plain": [
              "<chart_studio.tools.PlotlyDisplay object>"
            ]
          },
          "metadata": {
            "tags": []
          },
          "execution_count": 33
        }
      ]
    }
  ]
}