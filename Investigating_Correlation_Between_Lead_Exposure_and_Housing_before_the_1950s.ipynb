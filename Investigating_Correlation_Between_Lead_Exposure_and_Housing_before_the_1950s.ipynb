{
  "nbformat": 4,
  "nbformat_minor": 0,
  "metadata": {
    "colab": {
      "name": "Investigating_Correlation_Between_Lead_Exposure_and_Housing_before_the_1950s.ipynb",
      "version": "0.3.2",
      "provenance": [],
      "collapsed_sections": []
    },
    "kernelspec": {
      "name": "python3",
      "display_name": "Python 3"
    }
  },
  "cells": [
    {
      "cell_type": "markdown",
      "metadata": {
        "id": "hQ_RLwADUJnB",
        "colab_type": "text"
      },
      "source": [
        "## Question: Is there a correlation between the percentage of housing built before the 1950s and lead exposure? "
      ]
    },
    {
      "cell_type": "code",
      "metadata": {
        "id": "qnGWaszsUTod",
        "colab_type": "code",
        "colab": {}
      },
      "source": [
        "import pandas as pd\n",
        "import numpy as np\n",
        "import io\n",
        "import matplotlib.pyplot as plt"
      ],
      "execution_count": 0,
      "outputs": []
    },
    {
      "cell_type": "markdown",
      "metadata": {
        "id": "gAW3P7h4fi37",
        "colab_type": "text"
      },
      "source": [
        "###The datasets used to answer this are:\n",
        "+ Lead levels among the demographics of the New York State\n",
        "+ Percentages of housing units built over the years (we focused on the percentages before the 1950s)"
      ]
    },
    {
      "cell_type": "code",
      "metadata": {
        "id": "xb51V0BBeByQ",
        "colab_type": "code",
        "colab": {}
      },
      "source": [
        "lead = 'https://raw.githubusercontent.com/ahalyasanjiv/ChildhoodLeadExposure/master/data/NYS_Lead_Levels_and_Demographics.csv'\n",
        "df = pd.read_csv(lead)\n",
        "housing = 'https://raw.githubusercontent.com/ahalyasanjiv/ChildhoodLeadExposure/master/data/Housing_Units_Built_Pecentage_by_Year.csv'\n",
        "df2 = pd.read_csv(housing)"
      ],
      "execution_count": 0,
      "outputs": []
    },
    {
      "cell_type": "markdown",
      "metadata": {
        "id": "idlfaNKGflGX",
        "colab_type": "text"
      },
      "source": [
        "After loading in that data, we did a JOIN on the two datasets using the common column, '***Zip Code***', calling our new dataframe, intersected_df. "
      ]
    },
    {
      "cell_type": "code",
      "metadata": {
        "id": "_XmucwiJeihN",
        "colab_type": "code",
        "outputId": "ae6a160c-6aec-44c2-db50-ec9550a86ee4",
        "colab": {
          "base_uri": "https://localhost:8080/",
          "height": 221
        }
      },
      "source": [
        "intersected_df = df.set_index('Zip Code').join(df2.set_index('Zip'), how='inner')\n",
        "intersected_df.columns"
      ],
      "execution_count": 0,
      "outputs": [
        {
          "output_type": "execute_result",
          "data": {
            "text/plain": [
              "Index(['Percent Elevated Lead Cases', 'One race - White',\n",
              "       'One race - Black or African American',\n",
              "       'One race - American Indian and Alaska Native', 'One race - Asian',\n",
              "       'One race - Native Hawaiian and Other Pacific Islander',\n",
              "       'One race - Some other race', 'Two or more races',\n",
              "       'Hispanic or Latino origin (of any race)',\n",
              "       'White alone, not Hispanic or Latino', 'Median Income',\n",
              "       'Population for whom poverty status is determined - Below 100 percent of the poverty level',\n",
              "       'Total Housing Units', '% of housing units built 1950 - 1959',\n",
              "       '% built 1940 - 1949', '% built 1939 or earlier',\n",
              "       '% of housing units built before 1950'],\n",
              "      dtype='object')"
            ]
          },
          "metadata": {
            "tags": []
          },
          "execution_count": 4
        }
      ]
    },
    {
      "cell_type": "code",
      "metadata": {
        "id": "Um44GuQhrn9d",
        "colab_type": "code",
        "outputId": "4f407f91-22e1-4b80-eb46-a951d2bc58c7",
        "colab": {
          "base_uri": "https://localhost:8080/",
          "height": 283
        }
      },
      "source": [
        "# Make a scatter plot\n",
        "_= plt.plot(intersected_df['Percent Elevated Lead Cases'], intersected_df['% of housing units built before 1950'], marker='.', linestyle='none')\n",
        "\n",
        "# Label the axes\n",
        "_ = plt.ylabel('% of housing units built before 1950')\n",
        "_ = plt.xlabel('% of Lead in Children')\n",
        "_ = plt.yticks(np.arange(0,105, step=10))\n",
        "_ = plt.xticks(np.arange(0,41, step=5))\n",
        "\n",
        "# Show the result\n",
        "plt.show()"
      ],
      "execution_count": 0,
      "outputs": [
        {
          "output_type": "display_data",
          "data": {
            "image/png": "[encoded data removed]",
            "text/plain": [
              "<Figure size 432x288 with 1 Axes>"
            ]
          },
          "metadata": {
            "tags": []
          }
        }
      ]
    },
    {
      "cell_type": "markdown",
      "metadata": {
        "id": "TYW1p_ZHforH",
        "colab_type": "text"
      },
      "source": [
        "As shown above, we created a scatter plot of the data to find a story behind the data. We discovered somewhat of a correlation and decided to calculate the actual value:"
      ]
    },
    {
      "cell_type": "code",
      "metadata": {
        "id": "KlR6qBpHXvXB",
        "colab_type": "code",
        "outputId": "8d4591f7-426f-46ed-8989-8c29a2803dd2",
        "colab": {
          "base_uri": "https://localhost:8080/",
          "height": 33
        }
      },
      "source": [
        "intersected_df['% of housing units built before 1950'].corr(intersected_df['Percent Elevated Lead Cases'])"
      ],
      "execution_count": 0,
      "outputs": [
        {
          "output_type": "execute_result",
          "data": {
            "text/plain": [
              "0.2471856834860288"
            ]
          },
          "metadata": {
            "tags": []
          },
          "execution_count": 10
        }
      ]
    },
    {
      "cell_type": "markdown",
      "metadata": {
        "id": "v_21suDx_5ci",
        "colab_type": "text"
      },
      "source": [
        "## Answer:  Yes, there is a weak, but positive correlation. "
      ]
    }
  ]
}