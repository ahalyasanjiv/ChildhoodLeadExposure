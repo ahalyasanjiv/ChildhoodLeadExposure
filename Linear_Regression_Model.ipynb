{
  "nbformat": 4,
  "nbformat_minor": 0,
  "metadata": {
    "colab": {
      "name": "Linear_Regression_Model.ipynb",
      "version": "0.3.2",
      "provenance": [],
      "include_colab_link": true
    },
    "kernelspec": {
      "name": "python3",
      "display_name": "Python 3"
    }
  },
  "cells": [
    {
      "cell_type": "markdown",
      "metadata": {
        "id": "view-in-github",
        "colab_type": "text"
      },
      "source": [
        "<a href=\"https://colab.research.google.com/github/ahalyasanjiv/ChildhoodLeadExposure/blob/master/Linear_Regression_Model.ipynb\" target=\"_parent\"><img src=\"https://colab.research.google.com/assets/colab-badge.svg\" alt=\"Open In Colab\"/></a>"
      ]
    },
    {
      "cell_type": "markdown",
      "metadata": {
        "id": "KtWjRZVA-VOo",
        "colab_type": "text"
      },
      "source": [
        "# Linear Regression Model \n",
        "\n",
        "In our data exploration, we have investigated the link between lead exposure and the demographic makeup, poverty level, and housing related data for a neighborhood.\n",
        "\n",
        "Now we want to use what we learned from that to create a model that will allow us to predict the level of risk a neighborhood has for lead exposure.\n",
        "\n",
        "In this notebook, we will be creating a **linear regression model**, which as we defined in class, is a method to model the relationship between a set of independent variables 𝑋 (also knowns as explanatory variables, features, predictors) and a dependent variable 𝑌 .\n",
        "\n",
        "To do this, we will use numpy, statsmodels, and scikit-learn."
      ]
    },
    {
      "cell_type": "code",
      "metadata": {
        "id": "LnMKIxA_9IXT",
        "colab_type": "code",
        "colab": {}
      },
      "source": [
        "import numpy as np\n",
        "import pandas as pd\n",
        "import matplotlib.pyplot as plt\n",
        "\n",
        "import statsmodels.api as sm\n",
        "from sklearn.linear_model import LinearRegression\n",
        "\n",
        "%matplotlib inline"
      ],
      "execution_count": 0,
      "outputs": []
    },
    {
      "cell_type": "markdown",
      "metadata": {
        "id": "2dBDD23aGl68",
        "colab_type": "text"
      },
      "source": [
        "To summarize:\n",
        "\n",
        "We found that in the NYS data (by zip code), there was a link found between the demographic percentages and the lead levels.\n",
        "\n",
        "Features with positive correlations found between with incidences of elevated lead found in childhood blood:\n",
        "- Percentage of blacks/African-Americans (0.28)\n",
        "- Percentage of people who belong to two or more races (0.19)\n",
        "- Percentage of people of Hispanic/Latino origin (0.12)\n",
        "- Percentage of people who live below the poverty line (0.10).\n",
        "\n",
        "Features with negative correlation found between incidences of elevated lead found in childhood:\n",
        "- Percentage of white people living in a neighborhood (- 0.23). \n",
        "\n",
        "In the nation-wide data collected for 26 states (by county), the percentage of hispanics living in the county had the most significant correlation with the percentage of children with levels higher than 5 ug/dl (0.39!). Correlation with the percentage of whites living in the county had a negative correlation of -0.19, which is relatively close to what was found in the NYS data.\n",
        "\n",
        "The correlation with income and poverty was at around -0.11 for income and 0.12 for poverty.\n",
        "\n",
        "When looking at housing data for the United States for the percentage of houses built before a certain date, we found a slightly positive correlation.\n",
        "\n"
      ]
    },
    {
      "cell_type": "markdown",
      "metadata": {
        "id": "tHKpbhb-EDsb",
        "colab_type": "text"
      },
      "source": [
        "To build the model, we will use NY State data by zip code. Ideally, we would like to use census tract data to allow for greater granularity, but we have only found lead data by zip code. The nation-wide data we found was by county, which although was useful for the sake of data exploration, it is not nearly as granular as we would like the model to be. "
      ]
    },
    {
      "cell_type": "code",
      "metadata": {
        "id": "5euLnKUjI7G1",
        "colab_type": "code",
        "colab": {}
      },
      "source": [
        "# Read the dataset that was created from merged/cleaned lead level and demographics data for NYS by zip code (Refer to Investigating_Correlation_Between_Lead_Exposure_and_Demographics.ipynb)\n",
        "lead_df = pd.read_csv('https://raw.githubusercontent.com/ahalyasanjiv/ChildhoodLeadExposure/master/data/NYS_Lead_Levels_and_Demographics.csv')\n",
        "# Read the cleaned housing data for NYS by zip code\n",
        "housing_df = pd.read_csv('https://raw.githubusercontent.com/ahalyasanjiv/ChildhoodLeadExposure/master/data/Housing_Units_Built_Pecentage_by_Year.csv')"
      ],
      "execution_count": 0,
      "outputs": []
    },
    {
      "cell_type": "markdown",
      "metadata": {
        "id": "t4x9L91ZJ3xT",
        "colab_type": "text"
      },
      "source": [
        "Let's join the datasets on the zip code column."
      ]
    },
    {
      "cell_type": "code",
      "metadata": {
        "id": "yVHztEJpKICI",
        "colab_type": "code",
        "colab": {
          "base_uri": "https://localhost:8080/",
          "height": 293
        },
        "outputId": "861ee4f3-5401-4f3e-8c01-a35416c46925"
      },
      "source": [
        "df = lead_df.set_index('Zip Code').join(housing_df.set_index('Zip'), how='inner')\n",
        "df.corr()['Percent Elevated Lead Cases'][1:]"
      ],
      "execution_count": 3,
      "outputs": [
        {
          "output_type": "execute_result",
          "data": {
            "text/plain": [
              "One race - White                                                                            -0.228129\n",
              "One race - Black or African American                                                         0.282719\n",
              "One race - American Indian and Alaska Native                                                -0.005676\n",
              "One race - Asian                                                                             0.032635\n",
              "One race - Native Hawaiian and Other Pacific Islander                                       -0.022942\n",
              "One race - Some other race                                                                   0.094792\n",
              "Two or more races                                                                            0.188702\n",
              "Hispanic or Latino origin (of any race)                                                      0.126239\n",
              "White alone, not Hispanic or Latino                                                         -0.211089\n",
              "Median Income                                                                               -0.060596\n",
              "Population for whom poverty status is determined - Below 100 percent of the poverty level    0.103889\n",
              "Total Housing Units                                                                          0.136683\n",
              "% of housing units built 1950 - 1959                                                         0.115233\n",
              "% built 1940 - 1949                                                                          0.158593\n",
              "% built 1939 or earlier                                                                      0.206081\n",
              "% of housing units built before 1950                                                         0.247186\n",
              "Name: Percent Elevated Lead Cases, dtype: float64"
            ]
          },
          "metadata": {
            "tags": []
          },
          "execution_count": 3
        }
      ]
    },
    {
      "cell_type": "markdown",
      "metadata": {
        "id": "DTWFbdKcP1-t",
        "colab_type": "text"
      },
      "source": [
        "We some contenders for predictors of lead exposure:\n",
        "- Percentage of population that is black or African American (+ correlation)\n",
        "- Percentage of population that is Hispanic or Latino origin (+ corrrelation)\n",
        "- Percentage of population that is white (- correlation)\n",
        "- Percentage of housing units built before 1950 (+ correlation)\n",
        "- Percentage of population living below the poverty line (+ correlation)"
      ]
    },
    {
      "cell_type": "markdown",
      "metadata": {
        "id": "iRgZwVDnQ1-H",
        "colab_type": "text"
      },
      "source": [
        "## Single Variable Linear Regression Model\n",
        "First, let's try a simple model using one feature as the predictor - percentage of blacks/African-Americans, since it has the highest correlation coefficient with 'Percent Elevated Lead Cases'.\n",
        "\n",
        "We will use numpy's polyfit function to accomplish this."
      ]
    },
    {
      "cell_type": "code",
      "metadata": {
        "id": "YJNdy5sxQ0re",
        "colab_type": "code",
        "colab": {
          "base_uri": "https://localhost:8080/",
          "height": 33
        },
        "outputId": "b0ffd06c-6925-499c-8aee-ef6d240a3e25"
      },
      "source": [
        "# Get slope and intercept for the model\n",
        "beta, alpha = np.polyfit(df['One race - Black or African American'], df['Percent Elevated Lead Cases'], 1)\n",
        "print('beta: %0.3f, alpha: %0.3f.' % (beta, alpha))\n"
      ],
      "execution_count": 4,
      "outputs": [
        {
          "output_type": "stream",
          "text": [
            "beta: 0.105, alpha: 1.079.\n"
          ],
          "name": "stdout"
        }
      ]
    },
    {
      "cell_type": "markdown",
      "metadata": {
        "id": "8WK8qCkzUar1",
        "colab_type": "text"
      },
      "source": [
        "Let's see how well this line fits the data."
      ]
    },
    {
      "cell_type": "code",
      "metadata": {
        "id": "InHiygZeUhVc",
        "colab_type": "code",
        "colab": {
          "base_uri": "https://localhost:8080/",
          "height": 283
        },
        "outputId": "01678d17-4eb5-4b86-f034-f4842fd04a9b"
      },
      "source": [
        "y = df['One race - Black or African American']*beta + alpha\n",
        "\n",
        "_ = plt.scatter(df['One race - Black or African American'], df['Percent Elevated Lead Cases'])\n",
        "_ = plt.plot(df['One race - Black or African American'], y, color='r')\n",
        "_ = plt.xlabel('One race - Black or African American')\n",
        "_ = plt.ylabel('Percent Elevated Lead Cases')\n",
        "\n",
        "plt.show()"
      ],
      "execution_count": 5,
      "outputs": [
        {
          "output_type": "display_data",
          "data": {
            "image/png": "[encoded data removed]",
            "text/plain": [
              "<Figure size 432x288 with 1 Axes>"
            ]
          },
          "metadata": {
            "tags": []
          }
        }
      ]
    },
    {
      "cell_type": "markdown",
      "metadata": {
        "id": "cmsg4s93VAsE",
        "colab_type": "text"
      },
      "source": [
        "As we can see here, the data does have a number of outliers. Of course, there will be cases of elevated incidences of lead in zip codes where there is little to no black/African-American population. This variable has a correlation with the To get a better idea of the error, we will use the residual difference between the predicted percentage of elevated lead cases and the actual percentage."
      ]
    },
    {
      "cell_type": "code",
      "metadata": {
        "id": "zo_j750YVaRN",
        "colab_type": "code",
        "colab": {
          "base_uri": "https://localhost:8080/",
          "height": 286
        },
        "outputId": "0e800cf1-18e1-40be-cd18-f74db8563846"
      },
      "source": [
        "df['predicted_elevated_lead_percentage'] = df['One race - Black or African American'] * beta + alpha\n",
        "df['residual_elevated_lead_percentage'] = df['predicted_elevated_lead_percentage'] - df['Percent Elevated Lead Cases']\n",
        "df['residual_elevated_lead_percentage'].hist(bins=100)"
      ],
      "execution_count": 6,
      "outputs": [
        {
          "output_type": "execute_result",
          "data": {
            "text/plain": [
              "<matplotlib.axes._subplots.AxesSubplot at 0x7fa5617452e8>"
            ]
          },
          "metadata": {
            "tags": []
          },
          "execution_count": 6
        },
        {
          "output_type": "display_data",
          "data": {
            "image/png": "[encoded data removed]",
            "text/plain": [
              "<Figure size 432x288 with 1 Axes>"
            ]
          },
          "metadata": {
            "tags": []
          }
        }
      ]
    },
    {
      "cell_type": "markdown",
      "metadata": {
        "id": "cgHdri_vWv1Q",
        "colab_type": "text"
      },
      "source": [
        "The residual percentage clustered mostly around about 2%. "
      ]
    },
    {
      "cell_type": "markdown",
      "metadata": {
        "id": "VKz-M2YnXzVM",
        "colab_type": "text"
      },
      "source": [
        "## Using statsmodel For Multiple Linear Regression\n"
      ]
    },
    {
      "cell_type": "code",
      "metadata": {
        "id": "_YTEQZAgYCPF",
        "colab_type": "code",
        "colab": {
          "base_uri": "https://localhost:8080/",
          "height": 456
        },
        "outputId": "4de15d9c-686b-4d9d-ac7d-66ef9665135d"
      },
      "source": [
        "df = sm.add_constant(df)\n",
        "\n",
        "# First let's try single variable linear regression with the previous variable we used\n",
        "est = sm.OLS(df['Percent Elevated Lead Cases'], \n",
        "             df[['const', 'One race - Black or African American']]\n",
        "            ).fit()\n",
        "\n",
        "print(est.summary())"
      ],
      "execution_count": 7,
      "outputs": [
        {
          "output_type": "stream",
          "text": [
            "                                 OLS Regression Results                                \n",
            "=======================================================================================\n",
            "Dep. Variable:     Percent Elevated Lead Cases   R-squared:                       0.080\n",
            "Model:                                     OLS   Adj. R-squared:                  0.079\n",
            "Method:                          Least Squares   F-statistic:                     102.8\n",
            "Date:                         Wed, 15 May 2019   Prob (F-statistic):           3.24e-23\n",
            "Time:                                 02:35:40   Log-Likelihood:                -3047.3\n",
            "No. Observations:                         1185   AIC:                             6099.\n",
            "Df Residuals:                             1183   BIC:                             6109.\n",
            "Df Model:                                    1                                         \n",
            "Covariance Type:                     nonrobust                                         \n",
            "========================================================================================================\n",
            "                                           coef    std err          t      P>|t|      [0.025      0.975]\n",
            "--------------------------------------------------------------------------------------------------------\n",
            "const                                    1.0790      0.101     10.735      0.000       0.882       1.276\n",
            "One race - Black or African American     0.1048      0.010     10.138      0.000       0.085       0.125\n",
            "==============================================================================\n",
            "Omnibus:                     1146.840   Durbin-Watson:                   1.902\n",
            "Prob(Omnibus):                  0.000   Jarque-Bera (JB):            50263.815\n",
            "Skew:                           4.546   Prob(JB):                         0.00\n",
            "Kurtosis:                      33.583   Cond. No.                         10.6\n",
            "==============================================================================\n",
            "\n",
            "Warnings:\n",
            "[1] Standard Errors assume that the covariance matrix of the errors is correctly specified.\n"
          ],
          "name": "stdout"
        },
        {
          "output_type": "stream",
          "text": [
            "/usr/local/lib/python3.6/dist-packages/numpy/core/fromnumeric.py:2389: FutureWarning: Method .ptp is deprecated and will be removed in a future version. Use numpy.ptp instead.\n",
            "  return ptp(axis=axis, out=out, **kwargs)\n"
          ],
          "name": "stderr"
        }
      ]
    },
    {
      "cell_type": "code",
      "metadata": {
        "id": "q-Lb1OvOYv4d",
        "colab_type": "code",
        "colab": {
          "base_uri": "https://localhost:8080/",
          "height": 553
        },
        "outputId": "b0639ffb-5d4e-4c1e-bc95-9af99fd5b823"
      },
      "source": [
        "# Adding other variables to our model\n",
        "est = sm.OLS(df['Percent Elevated Lead Cases'], \n",
        "             df[['const', 'One race - Black or African American',\n",
        "                 '% of housing units built before 1950',\n",
        "                'Hispanic or Latino origin (of any race)',\n",
        "                'One race - White',\n",
        "                 'Two or more races',\n",
        "                 'Population for whom poverty status is determined - Below 100 percent of the poverty level',\n",
        "                'Total Housing Units']]\n",
        "            ).fit()\n",
        "\n",
        "print(est.summary())"
      ],
      "execution_count": 8,
      "outputs": [
        {
          "output_type": "stream",
          "text": [
            "                                 OLS Regression Results                                \n",
            "=======================================================================================\n",
            "Dep. Variable:     Percent Elevated Lead Cases   R-squared:                       0.146\n",
            "Model:                                     OLS   Adj. R-squared:                  0.141\n",
            "Method:                          Least Squares   F-statistic:                     28.84\n",
            "Date:                         Wed, 15 May 2019   Prob (F-statistic):           7.39e-37\n",
            "Time:                                 02:35:41   Log-Likelihood:                -3002.9\n",
            "No. Observations:                         1185   AIC:                             6022.\n",
            "Df Residuals:                             1177   BIC:                             6062.\n",
            "Df Model:                                    7                                         \n",
            "Covariance Type:                     nonrobust                                         \n",
            "=============================================================================================================================================================\n",
            "                                                                                                coef    std err          t      P>|t|      [0.025      0.975]\n",
            "-------------------------------------------------------------------------------------------------------------------------------------------------------------\n",
            "const                                                                                        -3.4004      1.284     -2.648      0.008      -5.919      -0.881\n",
            "One race - Black or African American                                                          0.1074      0.017      6.291      0.000       0.074       0.141\n",
            "% of housing units built before 1950                                                          0.0484      0.006      8.171      0.000       0.037       0.060\n",
            "Hispanic or Latino origin (of any race)                                                      -0.0019      0.014     -0.136      0.892      -0.029       0.025\n",
            "One race - White                                                                              0.0257      0.013      2.054      0.040       0.001       0.050\n",
            "Two or more races                                                                             0.1885      0.044      4.245      0.000       0.101       0.276\n",
            "Population for whom poverty status is determined - Below 100 percent of the poverty level    -0.0074      0.011     -0.659      0.510      -0.029       0.015\n",
            "Total Housing Units                                                                         7.05e-05   2.26e-05      3.114      0.002    2.61e-05       0.000\n",
            "==============================================================================\n",
            "Omnibus:                     1083.629   Durbin-Watson:                   1.925\n",
            "Prob(Omnibus):                  0.000   Jarque-Bera (JB):            41665.714\n",
            "Skew:                           4.190   Prob(JB):                         0.00\n",
            "Kurtosis:                      30.814   Cond. No.                     8.17e+04\n",
            "==============================================================================\n",
            "\n",
            "Warnings:\n",
            "[1] Standard Errors assume that the covariance matrix of the errors is correctly specified.\n",
            "[2] The condition number is large, 8.17e+04. This might indicate that there are\n",
            "strong multicollinearity or other numerical problems.\n"
          ],
          "name": "stdout"
        }
      ]
    },
    {
      "cell_type": "markdown",
      "metadata": {
        "id": "s4sZx8v4ltGn",
        "colab_type": "text"
      },
      "source": [
        "Let us examine the histogram of the residuals.\n",
        "\n"
      ]
    },
    {
      "cell_type": "code",
      "metadata": {
        "id": "HkN7bLRrav7Y",
        "colab_type": "code",
        "colab": {
          "base_uri": "https://localhost:8080/",
          "height": 286
        },
        "outputId": "79727d2a-bbbe-488a-d159-d24113348787"
      },
      "source": [
        "est.resid.hist(bins=100)"
      ],
      "execution_count": 9,
      "outputs": [
        {
          "output_type": "execute_result",
          "data": {
            "text/plain": [
              "<matplotlib.axes._subplots.AxesSubplot at 0x7fa561b964e0>"
            ]
          },
          "metadata": {
            "tags": []
          },
          "execution_count": 9
        },
        {
          "output_type": "display_data",
          "data": {
            "image/png": "[encoded data removed]",
            "text/plain": [
              "<Figure size 432x288 with 1 Axes>"
            ]
          },
          "metadata": {
            "tags": []
          }
        }
      ]
    },
    {
      "cell_type": "markdown",
      "metadata": {
        "id": "SphnV1HingE5",
        "colab_type": "text"
      },
      "source": [
        "It appears this histogram is more normally distributed than the previous one. \n",
        "\n",
        "When deciding which predictors to keep, we should consider the p-value. Predictors with low p-values are considered likely to be significant because changes in their values are related to changes in the target variable.\n",
        "\n",
        "In the above OLS Regression results, we see that the p-values for percentage of population that is of Hispanic or Latino origin (0.892) and % below the poverty line (0.510) are much greater than the alpha level of 0.05. We will therefore remove them from our model."
      ]
    },
    {
      "cell_type": "code",
      "metadata": {
        "id": "OicA-2Q0oIGg",
        "colab_type": "code",
        "colab": {
          "base_uri": "https://localhost:8080/",
          "height": 521
        },
        "outputId": "a3c24c2c-e240-40f2-d047-fccb14f5e38e"
      },
      "source": [
        "est = sm.OLS(df['Percent Elevated Lead Cases'], \n",
        "             df[['const', 'One race - Black or African American',\n",
        "                 '% of housing units built before 1950',\n",
        "                'One race - White',\n",
        "                 'Two or more races',\n",
        "                'Total Housing Units']]\n",
        "            ).fit()\n",
        "print(est.summary())\n"
      ],
      "execution_count": 10,
      "outputs": [
        {
          "output_type": "stream",
          "text": [
            "                                 OLS Regression Results                                \n",
            "=======================================================================================\n",
            "Dep. Variable:     Percent Elevated Lead Cases   R-squared:                       0.146\n",
            "Model:                                     OLS   Adj. R-squared:                  0.142\n",
            "Method:                          Least Squares   F-statistic:                     40.34\n",
            "Date:                         Wed, 15 May 2019   Prob (F-statistic):           2.26e-38\n",
            "Time:                                 02:35:41   Log-Likelihood:                -3003.1\n",
            "No. Observations:                         1185   AIC:                             6018.\n",
            "Df Residuals:                             1179   BIC:                             6049.\n",
            "Df Model:                                    5                                         \n",
            "Covariance Type:                     nonrobust                                         \n",
            "========================================================================================================\n",
            "                                           coef    std err          t      P>|t|      [0.025      0.975]\n",
            "--------------------------------------------------------------------------------------------------------\n",
            "const                                   -3.5163      1.141     -3.083      0.002      -5.754      -1.279\n",
            "One race - Black or African American     0.1054      0.017      6.341      0.000       0.073       0.138\n",
            "% of housing units built before 1950     0.0476      0.006      8.255      0.000       0.036       0.059\n",
            "One race - White                         0.0263      0.011      2.339      0.019       0.004       0.048\n",
            "Two or more races                        0.1883      0.044      4.246      0.000       0.101       0.275\n",
            "Total Housing Units                   7.086e-05   2.23e-05      3.174      0.002    2.71e-05       0.000\n",
            "==============================================================================\n",
            "Omnibus:                     1086.026   Durbin-Watson:                   1.922\n",
            "Prob(Omnibus):                  0.000   Jarque-Bera (JB):            41950.540\n",
            "Skew:                           4.204   Prob(JB):                         0.00\n",
            "Kurtosis:                      30.910   Cond. No.                     7.26e+04\n",
            "==============================================================================\n",
            "\n",
            "Warnings:\n",
            "[1] Standard Errors assume that the covariance matrix of the errors is correctly specified.\n",
            "[2] The condition number is large, 7.26e+04. This might indicate that there are\n",
            "strong multicollinearity or other numerical problems.\n"
          ],
          "name": "stdout"
        }
      ]
    },
    {
      "cell_type": "code",
      "metadata": {
        "id": "ekH9lkNIo3AD",
        "colab_type": "code",
        "colab": {
          "base_uri": "https://localhost:8080/",
          "height": 286
        },
        "outputId": "7e7562dc-b909-4169-856b-082d8448cc94"
      },
      "source": [
        "# Graph histogram of the residuals\n",
        "est.resid.hist(bins=100)"
      ],
      "execution_count": 11,
      "outputs": [
        {
          "output_type": "execute_result",
          "data": {
            "text/plain": [
              "<matplotlib.axes._subplots.AxesSubplot at 0x7fa55e131f98>"
            ]
          },
          "metadata": {
            "tags": []
          },
          "execution_count": 11
        },
        {
          "output_type": "display_data",
          "data": {
            "image/png": "[encoded data removed]",
            "text/plain": [
              "<Figure size 432x288 with 1 Axes>"
            ]
          },
          "metadata": {
            "tags": []
          }
        }
      ]
    },
    {
      "cell_type": "markdown",
      "metadata": {
        "id": "hKSMNWATpGT4",
        "colab_type": "text"
      },
      "source": [
        "When we look at our model's adjusted r-squared value, we notice that it is not as high as we would ideally like it to be. Lead exposure is difficult to predict because there are lots of different factors that can correlate with it, but they do not necessarily cause it. "
      ]
    },
    {
      "cell_type": "markdown",
      "metadata": {
        "id": "eCcvePCNysAT",
        "colab_type": "text"
      },
      "source": [
        "## Using sklearn to Create a Multiple Linear Regression Model"
      ]
    },
    {
      "cell_type": "code",
      "metadata": {
        "id": "Nd8QFG593uUS",
        "colab_type": "code",
        "colab": {}
      },
      "source": [
        "from sklearn.model_selection import train_test_split\n",
        "from sklearn.metrics import mean_squared_error"
      ],
      "execution_count": 0,
      "outputs": []
    },
    {
      "cell_type": "code",
      "metadata": {
        "id": "0eTX3Rpk8oPE",
        "colab_type": "code",
        "colab": {}
      },
      "source": [
        "# Create the linear regressor (reg)\n",
        "reg = LinearRegression()"
      ],
      "execution_count": 0,
      "outputs": []
    },
    {
      "cell_type": "code",
      "metadata": {
        "id": "WVdIVxC183xY",
        "colab_type": "code",
        "colab": {}
      },
      "source": [
        "# First, let's list the dependent variables we wish to use\n",
        "dependent_vars = ['One race - Black or African American',\n",
        "                 '% of housing units built before 1950',\n",
        "                'One race - White',\n",
        "                 'Two or more races',\n",
        "                'Total Housing Units']\n",
        "X = df[dependent_vars].values"
      ],
      "execution_count": 0,
      "outputs": []
    },
    {
      "cell_type": "code",
      "metadata": {
        "id": "VUk1xLkM9AOd",
        "colab_type": "code",
        "colab": {}
      },
      "source": [
        "y = df['Percent Elevated Lead Cases'].values"
      ],
      "execution_count": 0,
      "outputs": []
    },
    {
      "cell_type": "code",
      "metadata": {
        "id": "sCmBCQ1UCR8E",
        "colab_type": "code",
        "colab": {}
      },
      "source": [
        "# Split the data 80/20 for traintest\n",
        "X_train, X_test, y_train, y_test = train_test_split(X, y, test_size = 0.2, random_state=42)"
      ],
      "execution_count": 0,
      "outputs": []
    },
    {
      "cell_type": "code",
      "metadata": {
        "id": "BLgvxj5m9HMR",
        "colab_type": "code",
        "colab": {
          "base_uri": "https://localhost:8080/",
          "height": 50
        },
        "outputId": "d9cf8d73-acb3-4b2c-a1a4-00f81f0afc50"
      },
      "source": [
        "# Fit the model with the training data\n",
        "reg.fit(X_train,y_train)"
      ],
      "execution_count": 40,
      "outputs": [
        {
          "output_type": "execute_result",
          "data": {
            "text/plain": [
              "LinearRegression(copy_X=True, fit_intercept=True, n_jobs=None,\n",
              "         normalize=False)"
            ]
          },
          "metadata": {
            "tags": []
          },
          "execution_count": 40
        }
      ]
    },
    {
      "cell_type": "code",
      "metadata": {
        "id": "JKZDYpIL9J0x",
        "colab_type": "code",
        "colab": {
          "base_uri": "https://localhost:8080/",
          "height": 50
        },
        "outputId": "bc4853cf-fd56-44f3-f722-86d61eedc6f8"
      },
      "source": [
        "# Predict on the test data\n",
        "y_pred = reg.predict(X_test)\n",
        "\n",
        "# Print R^2 and Root Mean Squared Error\n",
        "print(\"R^2: {}\".format(reg.score(X_test, y_test)))\n",
        "rmse = np.sqrt(mean_squared_error(y_test,y_pred))\n",
        "print(\"Root Mean Squared Error: {}\".format(rmse))\n"
      ],
      "execution_count": 43,
      "outputs": [
        {
          "output_type": "stream",
          "text": [
            "R^2: 0.21560599060705832\n",
            "Root Mean Squared Error: 2.424735170855593\n"
          ],
          "name": "stdout"
        }
      ]
    },
    {
      "cell_type": "markdown",
      "metadata": {
        "id": "JKDi3RVhPlGy",
        "colab_type": "text"
      },
      "source": [
        "## Using Cross-Validation\n",
        "\n",
        "Using  cross-validation will allow us to maximize the amount of data that is used to train the model. All the data will be used to train and test through this process."
      ]
    },
    {
      "cell_type": "code",
      "metadata": {
        "id": "a2l9lVJWPqlT",
        "colab_type": "code",
        "colab": {
          "base_uri": "https://localhost:8080/",
          "height": 50
        },
        "outputId": "0d999d1e-9df8-41eb-e403-d93762b70e9f"
      },
      "source": [
        "from sklearn.model_selection import cross_val_score\n",
        "\n",
        "# Compute the cross-validation scores\n",
        "cv_scores = cross_val_score(reg,X,y,cv=5)\n",
        "\n",
        "# Print the cross-validation scores\n",
        "print(cv_scores)\n",
        "\n",
        "# Take the average\n",
        "np.mean(cv_scores)"
      ],
      "execution_count": 44,
      "outputs": [
        {
          "output_type": "stream",
          "text": [
            "[ 0.11265804  0.10941944  0.00796294 -0.01337791  0.24584454]\n"
          ],
          "name": "stdout"
        },
        {
          "output_type": "execute_result",
          "data": {
            "text/plain": [
              "0.09250141105376135"
            ]
          },
          "metadata": {
            "tags": []
          },
          "execution_count": 44
        }
      ]
    },
    {
      "cell_type": "markdown",
      "metadata": {
        "id": "TzGawefWRrfA",
        "colab_type": "text"
      },
      "source": [
        "## Regularization\n",
        "We want to regularize because it allows for a way to penalize large coefficients since they can lead to overfitting. \n",
        "\n"
      ]
    },
    {
      "cell_type": "code",
      "metadata": {
        "id": "B9CauUKwRuTC",
        "colab_type": "code",
        "colab": {}
      },
      "source": [
        "# Import necessary modules\n",
        "from sklearn.linear_model import Ridge\n"
      ],
      "execution_count": 0,
      "outputs": []
    },
    {
      "cell_type": "code",
      "metadata": {
        "id": "z7dG7tzpU3Rt",
        "colab_type": "code",
        "colab": {}
      },
      "source": [
        "\n",
        "# Setup the array of alphas and lists to store scores\n",
        "alpha_space = np.logspace(-4, 0, 50)\n",
        "ridge_scores = []\n",
        "ridge_scores_std = []\n"
      ],
      "execution_count": 0,
      "outputs": []
    },
    {
      "cell_type": "code",
      "metadata": {
        "id": "Cv-CNP7PU6Tc",
        "colab_type": "code",
        "colab": {
          "base_uri": "https://localhost:8080/",
          "height": 287
        },
        "outputId": "e00ebd63-ee9e-48c3-8bf8-a9ecf4cffceb"
      },
      "source": [
        "# Note: The following is adapted from the DataCamp Regression Chapter \n",
        "\n",
        "def display_plot(cv_scores, cv_scores_std):\n",
        "    fig = plt.figure()\n",
        "    ax = fig.add_subplot(1,1,1)\n",
        "    ax.plot(alpha_space, cv_scores)\n",
        "\n",
        "    std_error = cv_scores_std / np.sqrt(10)\n",
        "\n",
        "    ax.fill_between(alpha_space, cv_scores + std_error, cv_scores - std_error, alpha=0.2)\n",
        "    ax.set_ylabel('CV Score +/- Std Error')\n",
        "    ax.set_xlabel('Alpha')\n",
        "    ax.axhline(np.max(cv_scores), linestyle='--', color='.5')\n",
        "    ax.set_xlim([alpha_space[0], alpha_space[-1]])\n",
        "    ax.set_xscale('log')\n",
        "    plt.show()\n",
        "    \n",
        "# Create a ridge regressor: ridge\n",
        "ridge = Ridge(normalize=True)\n",
        "\n",
        "# Compute scores over range of alphas\n",
        "for alpha in alpha_space:\n",
        "\n",
        "    # Specify the alpha value to use: ridge.alpha\n",
        "    ridge.alpha = alpha\n",
        "    \n",
        "    # Perform 10-fold CV: ridge_cv_scores\n",
        "    ridge_cv_scores = cross_val_score(ridge, X, y, cv=10)\n",
        "    \n",
        "    # Append the mean of ridge_cv_scores to ridge_scores\n",
        "    ridge_scores.append(np.mean(ridge_cv_scores))\n",
        "    \n",
        "    # Append the std of ridge_cv_scores to ridge_scores_std\n",
        "    ridge_scores_std.append(np.std(ridge_cv_scores))\n",
        "\n",
        "# Display the plot\n",
        "display_plot(ridge_scores, ridge_scores_std)\n"
      ],
      "execution_count": 47,
      "outputs": [
        {
          "output_type": "display_data",
          "data": {
            "image/png": "[encoded data removed]",
            "text/plain": [
              "<Figure size 432x288 with 1 Axes>"
            ]
          },
          "metadata": {
            "tags": []
          }
        }
      ]
    }
  ]
}