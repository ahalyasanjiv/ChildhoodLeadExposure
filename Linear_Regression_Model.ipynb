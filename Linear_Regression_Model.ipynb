{
  "nbformat": 4,
  "nbformat_minor": 0,
  "metadata": {
    "colab": {
      "name": "Linear_Regression_Model.ipynb",
      "version": "0.3.2",
      "provenance": [],
      "include_colab_link": true
    },
    "kernelspec": {
      "name": "python3",
      "display_name": "Python 3"
    }
  },
  "cells": [
    {
      "cell_type": "markdown",
      "metadata": {
        "id": "view-in-github",
        "colab_type": "text"
      },
      "source": [
        "<a href=\"https://colab.research.google.com/github/ahalyasanjiv/ChildhoodLeadExposure/blob/master/Linear_Regression_Model.ipynb\" target=\"_parent\"><img src=\"https://colab.research.google.com/assets/colab-badge.svg\" alt=\"Open In Colab\"/></a>"
      ]
    },
    {
      "cell_type": "markdown",
      "metadata": {
        "id": "KtWjRZVA-VOo",
        "colab_type": "text"
      },
      "source": [
        "# Linear Regression Model \n",
        "\n",
        "In our data exploration, we have investigated the link between lead exposure and the demographic makeup, poverty level, and housing related data for a neighborhood.\n",
        "\n",
        "Now we want to use what we learned from that to create a model that will allow us to predict the level of risk a neighborhood has for lead exposure.\n",
        "\n",
        "In this notebook, we will be creating a **linear regression model**, which as we defined in class, is a method to model the relationship between a set of independent variables 𝑋 (also knowns as explanatory variables, features, predictors) and a dependent variable 𝑌 .\n",
        "\n",
        "To do this, we will use numpy, statsmodels, and scikit-learn."
      ]
    },
    {
      "cell_type": "code",
      "metadata": {
        "id": "LnMKIxA_9IXT",
        "colab_type": "code",
        "colab": {}
      },
      "source": [
        "import numpy as np\n",
        "import pandas as pd\n",
        "import matplotlib.pyplot as plt\n",
        "\n",
        "import statsmodels.api as sm\n",
        "from sklearn.linear_model import LinearRegression\n",
        "\n",
        "%matplotlib inline"
      ],
      "execution_count": 0,
      "outputs": []
    },
    {
      "cell_type": "markdown",
      "metadata": {
        "id": "2dBDD23aGl68",
        "colab_type": "text"
      },
      "source": [
        "To summarize:\n",
        "\n",
        "We found that in the NYS data (by zip code), there was a link found between the demographic percentages and the lead levels.\n",
        "\n",
        "Features with positive correlations found between with incidences of elevated lead found in childhood blood:\n",
        "- Percentage of blacks/African-Americans (0.28)\n",
        "- Percentage of people who belong to two or more races (0.19)\n",
        "- Percentage of people of Hispanic/Latino origin (0.12)\n",
        "- Percentage of people who live below the poverty line (0.10).\n",
        "\n",
        "Features with negative correlation found between incidences of elevated lead found in childhood:\n",
        "- Percentage of white people living in a neighborhood (- 0.23). \n",
        "\n",
        "In the nation-wide data collected for 26 states (by county), the percentage of hispanics living in the county had the most significant correlation with the percentage of children with levels higher than 5 ug/dl (0.39!). Correlation with the percentage of whites living in the county had a negative correlation of -0.19, which is relatively close to what was found in the NYS data.\n",
        "\n",
        "The correlation with income and poverty was at around -0.11 for income and 0.12 for poverty.\n",
        "\n",
        "When looking at housing data for the United States for the percentage of houses built before a certain date, we found a slightly positive correlation.\n",
        "\n"
      ]
    },
    {
      "cell_type": "markdown",
      "metadata": {
        "id": "tHKpbhb-EDsb",
        "colab_type": "text"
      },
      "source": [
        "To build the model, we will use NY State data by zip code. Ideally, we would like to use census tract data to allow for greater granularity, but we have only found lead data by zip code. The nation-wide data we found was by county, which although was useful for the sake of data exploration, it is not nearly as granular as we would like the model to be. "
      ]
    },
    {
      "cell_type": "code",
      "metadata": {
        "id": "5euLnKUjI7G1",
        "colab_type": "code",
        "colab": {}
      },
      "source": [
        "# Read the dataset that was created from merged/cleaned lead level and demographics data for NYS by zip code (Refer to Investigating_Correlation_Between_Lead_Exposure_and_Demographics.ipynb)\n",
        "lead_df = pd.read_csv('https://raw.githubusercontent.com/ahalyasanjiv/ChildhoodLeadExposure/master/data/NYS_Lead_Levels_and_Demographics.csv')\n",
        "# Read the cleaned housing data for NYS by zip code\n",
        "housing_df = pd.read_csv('https://raw.githubusercontent.com/ahalyasanjiv/ChildhoodLeadExposure/master/data/Housing_Units_Built_Pecentage_by_Year.csv')"
      ],
      "execution_count": 0,
      "outputs": []
    },
    {
      "cell_type": "markdown",
      "metadata": {
        "id": "t4x9L91ZJ3xT",
        "colab_type": "text"
      },
      "source": [
        "Let's join the datasets on the zip code column."
      ]
    },
    {
      "cell_type": "code",
      "metadata": {
        "id": "yVHztEJpKICI",
        "colab_type": "code",
        "colab": {
          "base_uri": "https://localhost:8080/",
          "height": 293
        },
        "outputId": "138333e2-1eb0-44ec-a458-ce07e63f9ad4"
      },
      "source": [
        "df = lead_df.set_index('Zip Code').join(housing_df.set_index('Zip'), how='inner')\n",
        "df.corr()['Percent Elevated Lead Cases'][1:]"
      ],
      "execution_count": 13,
      "outputs": [
        {
          "output_type": "execute_result",
          "data": {
            "text/plain": [
              "One race - White                                                                            -0.228129\n",
              "One race - Black or African American                                                         0.282719\n",
              "One race - American Indian and Alaska Native                                                -0.005676\n",
              "One race - Asian                                                                             0.032635\n",
              "One race - Native Hawaiian and Other Pacific Islander                                       -0.022942\n",
              "One race - Some other race                                                                   0.094792\n",
              "Two or more races                                                                            0.188702\n",
              "Hispanic or Latino origin (of any race)                                                      0.126239\n",
              "White alone, not Hispanic or Latino                                                         -0.211089\n",
              "Median Income                                                                               -0.060596\n",
              "Population for whom poverty status is determined - Below 100 percent of the poverty level    0.103889\n",
              "Total Housing Units                                                                          0.136683\n",
              "% of housing units built 1950 - 1959                                                         0.115233\n",
              "% built 1940 - 1949                                                                          0.158593\n",
              "% built 1939 or earlier                                                                      0.206081\n",
              "% of housing units built before 1950                                                         0.247186\n",
              "Name: Percent Elevated Lead Cases, dtype: float64"
            ]
          },
          "metadata": {
            "tags": []
          },
          "execution_count": 13
        }
      ]
    },
    {
      "cell_type": "markdown",
      "metadata": {
        "id": "DTWFbdKcP1-t",
        "colab_type": "text"
      },
      "source": [
        "We some contenders for predictors of lead exposure:\n",
        "- Percentage of population that is black or African American (+ correlation)\n",
        "- Percentage of population that is Hispanic or Latino origin (+ corrrelation)\n",
        "- Percentage of population that is white (- correlation)\n",
        "- Percentage of housing units built before 1950 (+ correlation)\n",
        "- Percentage of population living below the poverty line (+ correlation)"
      ]
    },
    {
      "cell_type": "markdown",
      "metadata": {
        "id": "iRgZwVDnQ1-H",
        "colab_type": "text"
      },
      "source": [
        "## Single Variable Linear Regression Model\n",
        "First, let's try a simple model using one feature as the predictor - percentage of blacks/African-Americans, since it has the highest correlation coefficient with 'Percent Elevated Lead Cases'.\n",
        "\n",
        "We will use numpy's polyfit function to accomplish this."
      ]
    },
    {
      "cell_type": "code",
      "metadata": {
        "id": "YJNdy5sxQ0re",
        "colab_type": "code",
        "colab": {
          "base_uri": "https://localhost:8080/",
          "height": 33
        },
        "outputId": "8d0ef70e-2cbf-4826-b394-2fef71b9658c"
      },
      "source": [
        "# Get slope and intercept for the model\n",
        "beta, alpha = np.polyfit(df['One race - Black or African American'], df['Percent Elevated Lead Cases'], 1)\n",
        "print('beta: %0.3f, alpha: %0.3f.' % (beta, alpha))\n"
      ],
      "execution_count": 14,
      "outputs": [
        {
          "output_type": "stream",
          "text": [
            "beta: 0.105, alpha: 1.079.\n"
          ],
          "name": "stdout"
        }
      ]
    },
    {
      "cell_type": "markdown",
      "metadata": {
        "id": "8WK8qCkzUar1",
        "colab_type": "text"
      },
      "source": [
        "Let's see how well this line fits the data."
      ]
    },
    {
      "cell_type": "code",
      "metadata": {
        "id": "InHiygZeUhVc",
        "colab_type": "code",
        "colab": {
          "base_uri": "https://localhost:8080/",
          "height": 270
        },
        "outputId": "eccfd76d-f9ac-4d67-bd8f-f295e0b6efdb"
      },
      "source": [
        "y = df['One race - Black or African American']*beta + alpha\n",
        "\n",
        "_ = plt.scatter(df['One race - Black or African American'], df['Percent Elevated Lead Cases'])\n",
        "_ = plt.plot(df['One race - Black or African American'], y, color='r')\n",
        "\n",
        "plt.show()"
      ],
      "execution_count": 15,
      "outputs": [
        {
          "output_type": "display_data",
          "data": {
            "image/png": "[encoded data removed]",
            "text/plain": [
              "<Figure size 432x288 with 1 Axes>"
            ]
          },
          "metadata": {
            "tags": []
          }
        }
      ]
    },
    {
      "cell_type": "markdown",
      "metadata": {
        "id": "cmsg4s93VAsE",
        "colab_type": "text"
      },
      "source": [
        "To get a better idea of the error, we will use the residual difference between the predicted percentage of elevated lead cases and the actual percentage."
      ]
    },
    {
      "cell_type": "code",
      "metadata": {
        "id": "zo_j750YVaRN",
        "colab_type": "code",
        "colab": {
          "base_uri": "https://localhost:8080/",
          "height": 286
        },
        "outputId": "7f6aefef-dbaa-45ae-ef1b-ca75de1045e8"
      },
      "source": [
        "df['predicted_elevated_lead_percentage'] = df['One race - Black or African American'] * beta + alpha\n",
        "df['residual_elevated_lead_percentage'] = df['predicted_elevated_lead_percentage'] - df['Percent Elevated Lead Cases']\n",
        "df['residual_elevated_lead_percentage'].hist(bins=100)"
      ],
      "execution_count": 16,
      "outputs": [
        {
          "output_type": "execute_result",
          "data": {
            "text/plain": [
              "<matplotlib.axes._subplots.AxesSubplot at 0x7f920d6c3b38>"
            ]
          },
          "metadata": {
            "tags": []
          },
          "execution_count": 16
        },
        {
          "output_type": "display_data",
          "data": {
            "image/png": "[encoded data removed]",
            "text/plain": [
              "<Figure size 432x288 with 1 Axes>"
            ]
          },
          "metadata": {
            "tags": []
          }
        }
      ]
    },
    {
      "cell_type": "markdown",
      "metadata": {
        "id": "cgHdri_vWv1Q",
        "colab_type": "text"
      },
      "source": [
        "The residual percentage clustered mostly around about 2%. "
      ]
    },
    {
      "cell_type": "markdown",
      "metadata": {
        "id": "VKz-M2YnXzVM",
        "colab_type": "text"
      },
      "source": [
        "## Using statsmodel For Multiple Linear Regression\n"
      ]
    },
    {
      "cell_type": "code",
      "metadata": {
        "id": "_YTEQZAgYCPF",
        "colab_type": "code",
        "colab": {
          "base_uri": "https://localhost:8080/",
          "height": 456
        },
        "outputId": "47d6e053-e6ed-4334-eda7-4cbacacfe98e"
      },
      "source": [
        "df = sm.add_constant(df)\n",
        "\n",
        "# First let's try single variable linear regression with the previous variable we used\n",
        "est = sm.OLS(df['Percent Elevated Lead Cases'], \n",
        "             df[['const', 'One race - Black or African American']]\n",
        "            ).fit()\n",
        "\n",
        "print(est.summary())"
      ],
      "execution_count": 17,
      "outputs": [
        {
          "output_type": "stream",
          "text": [
            "                                 OLS Regression Results                                \n",
            "=======================================================================================\n",
            "Dep. Variable:     Percent Elevated Lead Cases   R-squared:                       0.080\n",
            "Model:                                     OLS   Adj. R-squared:                  0.079\n",
            "Method:                          Least Squares   F-statistic:                     102.8\n",
            "Date:                         Tue, 14 May 2019   Prob (F-statistic):           3.24e-23\n",
            "Time:                                 22:24:31   Log-Likelihood:                -3047.3\n",
            "No. Observations:                         1185   AIC:                             6099.\n",
            "Df Residuals:                             1183   BIC:                             6109.\n",
            "Df Model:                                    1                                         \n",
            "Covariance Type:                     nonrobust                                         \n",
            "========================================================================================================\n",
            "                                           coef    std err          t      P>|t|      [0.025      0.975]\n",
            "--------------------------------------------------------------------------------------------------------\n",
            "const                                    1.0790      0.101     10.735      0.000       0.882       1.276\n",
            "One race - Black or African American     0.1048      0.010     10.138      0.000       0.085       0.125\n",
            "==============================================================================\n",
            "Omnibus:                     1146.840   Durbin-Watson:                   1.902\n",
            "Prob(Omnibus):                  0.000   Jarque-Bera (JB):            50263.815\n",
            "Skew:                           4.546   Prob(JB):                         0.00\n",
            "Kurtosis:                      33.583   Cond. No.                         10.6\n",
            "==============================================================================\n",
            "\n",
            "Warnings:\n",
            "[1] Standard Errors assume that the covariance matrix of the errors is correctly specified.\n"
          ],
          "name": "stdout"
        },
        {
          "output_type": "stream",
          "text": [
            "/usr/local/lib/python3.6/dist-packages/numpy/core/fromnumeric.py:2389: FutureWarning: Method .ptp is deprecated and will be removed in a future version. Use numpy.ptp instead.\n",
            "  return ptp(axis=axis, out=out, **kwargs)\n"
          ],
          "name": "stderr"
        }
      ]
    },
    {
      "cell_type": "code",
      "metadata": {
        "id": "q-Lb1OvOYv4d",
        "colab_type": "code",
        "colab": {
          "base_uri": "https://localhost:8080/",
          "height": 537
        },
        "outputId": "dca0382c-b209-48f7-bc3c-e473dad28bfb"
      },
      "source": [
        "# Adding other variables to our model\n",
        "est = sm.OLS(df['Percent Elevated Lead Cases'], \n",
        "             df[['const', 'One race - Black or African American',\n",
        "                 '% of housing units built before 1950',\n",
        "                'Hispanic or Latino origin (of any race)',\n",
        "                'One race - White',\n",
        "                 'Two or more races',\n",
        "                'Total Housing Units']]\n",
        "            ).fit()\n",
        "\n",
        "df.columns\n",
        "print(est.summary())"
      ],
      "execution_count": 28,
      "outputs": [
        {
          "output_type": "stream",
          "text": [
            "                                 OLS Regression Results                                \n",
            "=======================================================================================\n",
            "Dep. Variable:     Percent Elevated Lead Cases   R-squared:                       0.146\n",
            "Model:                                     OLS   Adj. R-squared:                  0.142\n",
            "Method:                          Least Squares   F-statistic:                     33.59\n",
            "Date:                         Tue, 14 May 2019   Prob (F-statistic):           1.50e-37\n",
            "Time:                                 22:29:24   Log-Likelihood:                -3003.1\n",
            "No. Observations:                         1185   AIC:                             6020.\n",
            "Df Residuals:                             1178   BIC:                             6056.\n",
            "Df Model:                                    6                                         \n",
            "Covariance Type:                     nonrobust                                         \n",
            "===========================================================================================================\n",
            "                                              coef    std err          t      P>|t|      [0.025      0.975]\n",
            "-----------------------------------------------------------------------------------------------------------\n",
            "const                                      -3.4444      1.282     -2.687      0.007      -5.959      -0.929\n",
            "One race - Black or African American        0.1052      0.017      6.284      0.000       0.072       0.138\n",
            "% of housing units built before 1950        0.0476      0.006      8.216      0.000       0.036       0.059\n",
            "Hispanic or Latino origin (of any race)    -0.0017      0.014     -0.123      0.902      -0.029       0.025\n",
            "One race - White                            0.0256      0.013      2.046      0.041       0.001       0.050\n",
            "Two or more races                           0.1885      0.044      4.246      0.000       0.101       0.276\n",
            "Total Housing Units                      7.129e-05   2.26e-05      3.154      0.002    2.69e-05       0.000\n",
            "==============================================================================\n",
            "Omnibus:                     1086.389   Durbin-Watson:                   1.922\n",
            "Prob(Omnibus):                  0.000   Jarque-Bera (JB):            42017.314\n",
            "Skew:                           4.205   Prob(JB):                         0.00\n",
            "Kurtosis:                      30.933   Cond. No.                     8.16e+04\n",
            "==============================================================================\n",
            "\n",
            "Warnings:\n",
            "[1] Standard Errors assume that the covariance matrix of the errors is correctly specified.\n",
            "[2] The condition number is large, 8.16e+04. This might indicate that there are\n",
            "strong multicollinearity or other numerical problems.\n"
          ],
          "name": "stdout"
        }
      ]
    },
    {
      "cell_type": "code",
      "metadata": {
        "id": "HkN7bLRrav7Y",
        "colab_type": "code",
        "colab": {}
      },
      "source": [
        ""
      ],
      "execution_count": 0,
      "outputs": []
    }
  ]
}